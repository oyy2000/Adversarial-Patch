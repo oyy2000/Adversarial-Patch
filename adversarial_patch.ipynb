{
 "cells": [
  {
   "cell_type": "markdown",
   "id": "7ea3338e-fd0f-4ca9-98c7-18c27f981f9a",
   "metadata": {},
   "source": [
    "# Advesarial Patch"
   ]
  },
  {
   "cell_type": "code",
   "execution_count": 29,
   "metadata": {},
   "outputs": [],
   "source": [
    "import os\n",
    "import json\n",
    "\n",
    "import torch\n",
    "import torchvision\n",
    "import torchvision.transforms as transforms\n",
    "import torch.nn as nn\n",
    "import matplotlib.pyplot as plt\n",
    "import numpy as np\n",
    "from tqdm.notebook import tqdm\n",
    "CHECKPOINT_PATH = './saved_models/'\n"
   ]
  },
  {
   "cell_type": "code",
   "execution_count": 2,
   "metadata": {},
   "outputs": [
    {
     "name": "stdout",
     "output_type": "stream",
     "text": [
      "Using device: cuda:0\n"
     ]
    }
   ],
   "source": [
    "# Mean and Std from CIFAR-10\n",
    "NORM_MEAN = np.array([0.491, 0.482, 0.446])\n",
    "NORM_STD = np.array([0.247, 0.243, 0.261])\n",
    "\n",
    "# No resizing and center crop necessary as images are already preprocessed.\n",
    "transform = transforms.Compose([\n",
    "    transforms.ToTensor(),\n",
    "    transforms.Normalize(mean=NORM_MEAN,\n",
    "                         std=NORM_STD)\n",
    "])\n",
    "\n",
    "\n",
    "# Check if CUDA is available and set the device\n",
    "device = torch.device(\"cuda:0\" if torch.cuda.is_available() else \"cpu\")\n",
    "print(\"Using device:\", device)\n",
    "\n",
    "label_names = ('plane', 'car', 'bird', 'cat', 'deer',\n",
    "               'dog', 'frog', 'horse', 'ship', 'truck')\n",
    "\n",
    "def get_label_index(lab_str):\n",
    "    assert lab_str in label_names, f\"Label \\\"{lab_str}\\\" not found. Check the spelling of the class.\"\n",
    "    return label_names.index(lab_str)"
   ]
  },
  {
   "cell_type": "code",
   "execution_count": 4,
   "id": "94dff16c",
   "metadata": {},
   "outputs": [
    {
     "name": "stdout",
     "output_type": "stream",
     "text": [
      "Files already downloaded and verified\n",
      "Files already downloaded and verified\n"
     ]
    },
    {
     "name": "stderr",
     "output_type": "stream",
     "text": [
      "Using cache found in /home/yo46/.cache/torch/hub/chenyaofo_pytorch-cifar-models_master\n"
     ]
    },
    {
     "name": "stdout",
     "output_type": "stream",
     "text": [
      "Accuracy of the network on the test images: 92 %\n"
     ]
    }
   ],
   "source": [
    "# Load CIFAR-10 training and test datasets\n",
    "trainset = torchvision.datasets.CIFAR10(root='./data', train=True,\n",
    "                                        download=True, transform=transform)\n",
    "trainloader = torch.utils.data.DataLoader(trainset, batch_size=128,\n",
    "                                          shuffle=False, num_workers=2)\n",
    "\n",
    "testset = torchvision.datasets.CIFAR10(root='./data', train=False,\n",
    "                                       download=True, transform=transform)\n",
    "testloader = torch.utils.data.DataLoader(testset, batch_size=128,\n",
    "                                         shuffle=False, num_workers=2)\n",
    "\n",
    "# TODO: Load the pretrained cifar 10 model from the hub and do the untargeted/targeted training \n",
    "MODEL_NAMEs = ['resnet20', 'resnet32', 'vgg16', 'vgg19', 'densenet121', 'densenet161']\n",
    "# Load model and move to device\n",
    "model = torch.hub.load(\"chenyaofo/pytorch-cifar-models\", \"cifar10_resnet20\", pretrained=True)\n",
    "\n",
    "model.to(device)\n",
    "\n",
    "# Ensure the model is in evaluation mode\n",
    "model.eval()\n",
    "\n",
    "# Function to calculate accuracy\n",
    "def calculate_accuracy(net, dataloader, device):\n",
    "    correct = 0\n",
    "    total = 0\n",
    "    with torch.no_grad():\n",
    "        for data in dataloader:\n",
    "            images, labels = data\n",
    "            images, labels = images.to(device), labels.to(device)\n",
    "            outputs = net(images)\n",
    "            _, predicted = torch.max(outputs, 1)\n",
    "            total += labels.size(0)\n",
    "            correct += (predicted == labels).sum().item()\n",
    "    return 100 * correct / total\n",
    "\n",
    "# # Evaluate on the training data\n",
    "# train_accuracy = calculate_accuracy(model, trainloader, device)\n",
    "# print('Accuracy of the network on the training images: %d %%' % train_accuracy)\n",
    "\n",
    "# Evaluate on the test data\n",
    "test_accuracy = calculate_accuracy(model, testloader, device)\n",
    "print('Accuracy of the network on the test images: %d %%' % test_accuracy)\n"
   ]
  },
  {
   "cell_type": "code",
   "execution_count": 5,
   "metadata": {},
   "outputs": [],
   "source": [
    "def eval_model(dataset_loader, img_func=None):\n",
    "    tp, tp_5, counter = 0., 0., 0.\n",
    "    for imgs, labels in tqdm(dataset_loader, desc=\"Validating...\"):\n",
    "        imgs = imgs.to(device)\n",
    "        labels = labels.to(device)\n",
    "        if img_func is not None:\n",
    "            imgs = img_func(imgs, labels) \n",
    "        with torch.no_grad():\n",
    "            preds = model(imgs)\n",
    "        tp += (preds.argmax(dim=-1) == labels).sum()\n",
    "        tp_5 += (preds.topk(5, dim=-1)[1] == labels[...,None]).any(dim=-1).sum()\n",
    "        counter += preds.shape[0]\n",
    "    acc = tp.float().item()/counter\n",
    "    top5 = tp_5.float().item()/counter\n",
    "    print(f\"Top-1 error: {(100.0 * (1 - acc)):4.2f}%\")\n",
    "    print(f\"Top-5 error: {(100.0 * (1 - top5)):4.2f}%\")\n",
    "    return acc, top5"
   ]
  },
  {
   "cell_type": "code",
   "execution_count": 9,
   "metadata": {},
   "outputs": [
    {
     "data": {
      "application/vnd.jupyter.widget-view+json": {
       "model_id": "adacbeb2d41e44e8a04c6a6797f69a0f",
       "version_major": 2,
       "version_minor": 0
      },
      "text/plain": [
       "Validating...:   0%|          | 0/79 [00:00<?, ?it/s]"
      ]
     },
     "metadata": {},
     "output_type": "display_data"
    },
    {
     "name": "stdout",
     "output_type": "stream",
     "text": [
      "Top-1 error: 7.88%\n",
      "Top-5 error: 0.18%\n"
     ]
    }
   ],
   "source": [
    "_ = eval_model(testloader)"
   ]
  },
  {
   "cell_type": "code",
   "execution_count": 10,
   "metadata": {},
   "outputs": [],
   "source": [
    "def show_prediction(img, label, pred, K=5, adv_img=None, noise=None):\n",
    "    \n",
    "    if isinstance(img, torch.Tensor):\n",
    "        # Tensor image to numpy\n",
    "        img = img.cpu().permute(1, 2, 0).numpy()\n",
    "        img = (img * NORM_STD[None,None]) + NORM_MEAN[None,None]\n",
    "        img = np.clip(img, a_min=0.0, a_max=1.0)\n",
    "        label = label.item()\n",
    "    \n",
    "    # Plot on the left the image with the true label as title.\n",
    "    # On the right, have a horizontal bar plot with the top k predictions including probabilities\n",
    "    if noise is None or adv_img is None:\n",
    "        fig, ax = plt.subplots(1, 2, figsize=(10,2), gridspec_kw={'width_ratios': [1, 1]})\n",
    "    else:\n",
    "        fig, ax = plt.subplots(1, 5, figsize=(12,2), gridspec_kw={'width_ratios': [1, 1, 1, 1, 2]})\n",
    "    \n",
    "    ax[0].imshow(img)\n",
    "    ax[0].set_title(label_names[label])\n",
    "    ax[0].axis('off')\n",
    "    \n",
    "    if adv_img is not None and noise is not None:\n",
    "        # Visualize adversarial images\n",
    "        adv_img = adv_img.cpu().permute(1, 2, 0).numpy()\n",
    "        adv_img = (adv_img * NORM_STD[None,None]) + NORM_MEAN[None,None]\n",
    "        adv_img = np.clip(adv_img, a_min=0.0, a_max=1.0)\n",
    "        ax[1].imshow(adv_img)\n",
    "        ax[1].set_title('Adversarial')\n",
    "        ax[1].axis('off')\n",
    "        # Visualize noise\n",
    "        noise = noise.cpu().permute(1, 2, 0).numpy()\n",
    "        noise = noise * 0.5 + 0.5 # Scale between 0 to 1 \n",
    "        ax[2].imshow(noise)\n",
    "        ax[2].set_title('Noise')\n",
    "        ax[2].axis('off')\n",
    "        # buffer\n",
    "        ax[3].axis('off')\n",
    "    \n",
    "    if abs(pred.sum().item() - 1.0) > 1e-4:\n",
    "        pred = torch.softmax(pred, dim=-1)\n",
    "    topk_vals, topk_idx = pred.topk(K, dim=-1)\n",
    "    topk_vals, topk_idx = topk_vals.cpu().numpy(), topk_idx.cpu().numpy()\n",
    "    ax[-1].barh(np.arange(K), topk_vals*100.0, align='center', color=[\"C0\" if topk_idx[i]!=label else \"C2\" for i in range(K)])\n",
    "    ax[-1].set_yticks(np.arange(K))\n",
    "    ax[-1].set_yticklabels([label_names[c] for c in topk_idx])\n",
    "    ax[-1].invert_yaxis()\n",
    "    ax[-1].set_xlabel('Confidence')\n",
    "    ax[-1].set_title('Predictions')\n",
    "    \n",
    "    plt.show()\n",
    "    plt.close()"
   ]
  },
  {
   "cell_type": "code",
   "execution_count": 12,
   "metadata": {},
   "outputs": [
    {
     "data": {
      "image/png": "[encoded data removed]",
      "text/plain": [
       "<Figure size 1000x200 with 2 Axes>"
      ]
     },
     "metadata": {},
     "output_type": "display_data"
    },
    {
     "data": {
      "image/png": "[encoded data removed]",
      "text/plain": [
       "<Figure size 1000x200 with 2 Axes>"
      ]
     },
     "metadata": {},
     "output_type": "display_data"
    },
    {
     "data": {
      "image/png": "[encoded data removed]",
      "text/plain": [
       "<Figure size 1000x200 with 2 Axes>"
      ]
     },
     "metadata": {},
     "output_type": "display_data"
    },
    {
     "data": {
      "image/png": "[encoded data removed]",
      "text/plain": [
       "<Figure size 1000x200 with 2 Axes>"
      ]
     },
     "metadata": {},
     "output_type": "display_data"
    }
   ],
   "source": [
    "exmp_batch, label_batch = next(iter(testloader))\n",
    "with torch.no_grad():\n",
    "    preds = model(exmp_batch.to(device))\n",
    "for i in range(1,17,5):\n",
    "    show_prediction(exmp_batch[i], label_batch[i], preds[i])"
   ]
  },
  {
   "cell_type": "markdown",
   "metadata": {},
   "source": [
    "## Place Patch into imgs and train"
   ]
  },
  {
   "cell_type": "code",
   "execution_count": 14,
   "metadata": {},
   "outputs": [],
   "source": [
    "TENSOR_MEANS, TENSOR_STD = torch.FloatTensor(NORM_MEAN)[:,None,None], torch.FloatTensor(NORM_STD)[:,None,None]\n",
    "def patch_forward(patch):\n",
    "    # Map patch values from [-infty,infty] to ImageNet min and max\n",
    "    patch = (torch.tanh(patch) + 1 - 2 * TENSOR_MEANS) / (2 * TENSOR_STD)\n",
    "    return patch"
   ]
  },
  {
   "cell_type": "code",
   "execution_count": 15,
   "metadata": {},
   "outputs": [],
   "source": [
    "def place_patch(img, patch):\n",
    "    for i in range(img.shape[0]):\n",
    "        h_offset = np.random.randint(0,img.shape[2]-patch.shape[1]-1)\n",
    "        w_offset = np.random.randint(0,img.shape[3]-patch.shape[2]-1)\n",
    "        img[i,:,h_offset:h_offset+patch.shape[1],w_offset:w_offset+patch.shape[2]] = patch_forward(patch)\n",
    "    return img"
   ]
  },
  {
   "cell_type": "code",
   "execution_count": 16,
   "metadata": {},
   "outputs": [],
   "source": [
    "def eval_patch(model, patch, val_loader, target_class):\n",
    "    model.eval()\n",
    "    tp, tp_5, counter = 0., 0., 0.\n",
    "    with torch.no_grad():\n",
    "        for img, img_labels in tqdm(val_loader, desc=\"Validating...\", leave=False):\n",
    "            # For stability, place the patch at 4 random locations per image, and average the performance\n",
    "            for _ in range(4): \n",
    "                patch_img = place_patch(img, patch)\n",
    "                patch_img = patch_img.to(device)\n",
    "                img_labels = img_labels.to(device)\n",
    "                pred = model(patch_img)\n",
    "                # In the accuracy calculation, we need to exclude the images that are of our target class\n",
    "                # as we would not \"fool\" the model into predicting those\n",
    "                tp += torch.logical_and(pred.argmax(dim=-1) == target_class, img_labels != target_class).sum()\n",
    "                tp_5 += torch.logical_and((pred.topk(5, dim=-1)[1] == target_class).any(dim=-1), img_labels != target_class).sum()\n",
    "                counter += (img_labels != target_class).sum()\n",
    "    acc = tp/counter\n",
    "    top5 = tp_5/counter\n",
    "    return acc, top5"
   ]
  },
  {
   "cell_type": "code",
   "execution_count": 58,
   "id": "2d8025fc-c58f-4099-a443-27cc4b5114af",
   "metadata": {},
   "outputs": [
    {
     "name": "stdout",
     "output_type": "stream",
     "text": [
      "Epoch [1/20], Average Loss: 11.8375\n",
      "Epoch [2/20], Average Loss: 10.7402\n",
      "Epoch [3/20], Average Loss: 10.0036\n"
     ]
    },
    {
     "ename": "KeyboardInterrupt",
     "evalue": "",
     "output_type": "error",
     "traceback": [
      "\u001b[0;31m---------------------------------------------------------------------------\u001b[0m",
      "\u001b[0;31mKeyboardInterrupt\u001b[0m                         Traceback (most recent call last)",
      "\u001b[1;32m/home/yo46/test/adversarial_patch/adversarial_patch.ipynb Cell 13\u001b[0m line \u001b[0;36m4\n\u001b[1;32m     <a href='vscode-notebook-cell://ssh-remote%2Bhl279-cmp-02.egr.duke.edu/home/yo46/test/adversarial_patch/adversarial_patch.ipynb#W5sdnNjb2RlLXJlbW90ZQ%3D%3D?line=43'>44</a>\u001b[0m initial_patch \u001b[39m=\u001b[39m create_initial_patch(size\u001b[39m=\u001b[39mpatch_size, device\u001b[39m=\u001b[39mdevice)\n\u001b[1;32m     <a href='vscode-notebook-cell://ssh-remote%2Bhl279-cmp-02.egr.duke.edu/home/yo46/test/adversarial_patch/adversarial_patch.ipynb#W5sdnNjb2RlLXJlbW90ZQ%3D%3D?line=45'>46</a>\u001b[0m \u001b[39m# Train the patch\u001b[39;00m\n\u001b[0;32m---> <a href='vscode-notebook-cell://ssh-remote%2Bhl279-cmp-02.egr.duke.edu/home/yo46/test/adversarial_patch/adversarial_patch.ipynb#W5sdnNjb2RlLXJlbW90ZQ%3D%3D?line=46'>47</a>\u001b[0m trained_patch \u001b[39m=\u001b[39m train_patch(model, initial_patch, trainloader, device\u001b[39m=\u001b[39;49mdevice, epochs\u001b[39m=\u001b[39;49m\u001b[39m20\u001b[39;49m)\n",
      "\u001b[1;32m/home/yo46/test/adversarial_patch/adversarial_patch.ipynb Cell 13\u001b[0m line \u001b[0;36m2\n\u001b[1;32m     <a href='vscode-notebook-cell://ssh-remote%2Bhl279-cmp-02.egr.duke.edu/home/yo46/test/adversarial_patch/adversarial_patch.ipynb#W5sdnNjb2RlLXJlbW90ZQ%3D%3D?line=17'>18</a>\u001b[0m total_loss \u001b[39m=\u001b[39m \u001b[39m0.0\u001b[39m\n\u001b[1;32m     <a href='vscode-notebook-cell://ssh-remote%2Bhl279-cmp-02.egr.duke.edu/home/yo46/test/adversarial_patch/adversarial_patch.ipynb#W5sdnNjb2RlLXJlbW90ZQ%3D%3D?line=18'>19</a>\u001b[0m num_batches \u001b[39m=\u001b[39m \u001b[39m0\u001b[39m\n\u001b[0;32m---> <a href='vscode-notebook-cell://ssh-remote%2Bhl279-cmp-02.egr.duke.edu/home/yo46/test/adversarial_patch/adversarial_patch.ipynb#W5sdnNjb2RlLXJlbW90ZQ%3D%3D?line=20'>21</a>\u001b[0m \u001b[39mfor\u001b[39;00m images, _ \u001b[39min\u001b[39;00m train_loader:\n\u001b[1;32m     <a href='vscode-notebook-cell://ssh-remote%2Bhl279-cmp-02.egr.duke.edu/home/yo46/test/adversarial_patch/adversarial_patch.ipynb#W5sdnNjb2RlLXJlbW90ZQ%3D%3D?line=21'>22</a>\u001b[0m     images \u001b[39m=\u001b[39m images\u001b[39m.\u001b[39mto(device)\n\u001b[1;32m     <a href='vscode-notebook-cell://ssh-remote%2Bhl279-cmp-02.egr.duke.edu/home/yo46/test/adversarial_patch/adversarial_patch.ipynb#W5sdnNjb2RlLXJlbW90ZQ%3D%3D?line=22'>23</a>\u001b[0m     patched_images \u001b[39m=\u001b[39m apply_patch(images, patch)\n",
      "File \u001b[0;32m~/anaconda3/envs/llmattack/lib/python3.8/site-packages/torch/utils/data/dataloader.py:634\u001b[0m, in \u001b[0;36m_BaseDataLoaderIter.__next__\u001b[0;34m(self)\u001b[0m\n\u001b[1;32m    631\u001b[0m \u001b[39mif\u001b[39;00m \u001b[39mself\u001b[39m\u001b[39m.\u001b[39m_sampler_iter \u001b[39mis\u001b[39;00m \u001b[39mNone\u001b[39;00m:\n\u001b[1;32m    632\u001b[0m     \u001b[39m# TODO(https://github.com/pytorch/pytorch/issues/76750)\u001b[39;00m\n\u001b[1;32m    633\u001b[0m     \u001b[39mself\u001b[39m\u001b[39m.\u001b[39m_reset()  \u001b[39m# type: ignore[call-arg]\u001b[39;00m\n\u001b[0;32m--> 634\u001b[0m data \u001b[39m=\u001b[39m \u001b[39mself\u001b[39;49m\u001b[39m.\u001b[39;49m_next_data()\n\u001b[1;32m    635\u001b[0m \u001b[39mself\u001b[39m\u001b[39m.\u001b[39m_num_yielded \u001b[39m+\u001b[39m\u001b[39m=\u001b[39m \u001b[39m1\u001b[39m\n\u001b[1;32m    636\u001b[0m \u001b[39mif\u001b[39;00m \u001b[39mself\u001b[39m\u001b[39m.\u001b[39m_dataset_kind \u001b[39m==\u001b[39m _DatasetKind\u001b[39m.\u001b[39mIterable \u001b[39mand\u001b[39;00m \\\n\u001b[1;32m    637\u001b[0m         \u001b[39mself\u001b[39m\u001b[39m.\u001b[39m_IterableDataset_len_called \u001b[39mis\u001b[39;00m \u001b[39mnot\u001b[39;00m \u001b[39mNone\u001b[39;00m \u001b[39mand\u001b[39;00m \\\n\u001b[1;32m    638\u001b[0m         \u001b[39mself\u001b[39m\u001b[39m.\u001b[39m_num_yielded \u001b[39m>\u001b[39m \u001b[39mself\u001b[39m\u001b[39m.\u001b[39m_IterableDataset_len_called:\n",
      "File \u001b[0;32m~/anaconda3/envs/llmattack/lib/python3.8/site-packages/torch/utils/data/dataloader.py:1329\u001b[0m, in \u001b[0;36m_MultiProcessingDataLoaderIter._next_data\u001b[0;34m(self)\u001b[0m\n\u001b[1;32m   1326\u001b[0m     \u001b[39mreturn\u001b[39;00m \u001b[39mself\u001b[39m\u001b[39m.\u001b[39m_process_data(data)\n\u001b[1;32m   1328\u001b[0m \u001b[39massert\u001b[39;00m \u001b[39mnot\u001b[39;00m \u001b[39mself\u001b[39m\u001b[39m.\u001b[39m_shutdown \u001b[39mand\u001b[39;00m \u001b[39mself\u001b[39m\u001b[39m.\u001b[39m_tasks_outstanding \u001b[39m>\u001b[39m \u001b[39m0\u001b[39m\n\u001b[0;32m-> 1329\u001b[0m idx, data \u001b[39m=\u001b[39m \u001b[39mself\u001b[39;49m\u001b[39m.\u001b[39;49m_get_data()\n\u001b[1;32m   1330\u001b[0m \u001b[39mself\u001b[39m\u001b[39m.\u001b[39m_tasks_outstanding \u001b[39m-\u001b[39m\u001b[39m=\u001b[39m \u001b[39m1\u001b[39m\n\u001b[1;32m   1331\u001b[0m \u001b[39mif\u001b[39;00m \u001b[39mself\u001b[39m\u001b[39m.\u001b[39m_dataset_kind \u001b[39m==\u001b[39m _DatasetKind\u001b[39m.\u001b[39mIterable:\n\u001b[1;32m   1332\u001b[0m     \u001b[39m# Check for _IterableDatasetStopIteration\u001b[39;00m\n",
      "File \u001b[0;32m~/anaconda3/envs/llmattack/lib/python3.8/site-packages/torch/utils/data/dataloader.py:1295\u001b[0m, in \u001b[0;36m_MultiProcessingDataLoaderIter._get_data\u001b[0;34m(self)\u001b[0m\n\u001b[1;32m   1291\u001b[0m     \u001b[39m# In this case, `self._data_queue` is a `queue.Queue`,. But we don't\u001b[39;00m\n\u001b[1;32m   1292\u001b[0m     \u001b[39m# need to call `.task_done()` because we don't use `.join()`.\u001b[39;00m\n\u001b[1;32m   1293\u001b[0m \u001b[39melse\u001b[39;00m:\n\u001b[1;32m   1294\u001b[0m     \u001b[39mwhile\u001b[39;00m \u001b[39mTrue\u001b[39;00m:\n\u001b[0;32m-> 1295\u001b[0m         success, data \u001b[39m=\u001b[39m \u001b[39mself\u001b[39;49m\u001b[39m.\u001b[39;49m_try_get_data()\n\u001b[1;32m   1296\u001b[0m         \u001b[39mif\u001b[39;00m success:\n\u001b[1;32m   1297\u001b[0m             \u001b[39mreturn\u001b[39;00m data\n",
      "File \u001b[0;32m~/anaconda3/envs/llmattack/lib/python3.8/site-packages/torch/utils/data/dataloader.py:1133\u001b[0m, in \u001b[0;36m_MultiProcessingDataLoaderIter._try_get_data\u001b[0;34m(self, timeout)\u001b[0m\n\u001b[1;32m   1120\u001b[0m \u001b[39mdef\u001b[39;00m \u001b[39m_try_get_data\u001b[39m(\u001b[39mself\u001b[39m, timeout\u001b[39m=\u001b[39m_utils\u001b[39m.\u001b[39mMP_STATUS_CHECK_INTERVAL):\n\u001b[1;32m   1121\u001b[0m     \u001b[39m# Tries to fetch data from `self._data_queue` once for a given timeout.\u001b[39;00m\n\u001b[1;32m   1122\u001b[0m     \u001b[39m# This can also be used as inner loop of fetching without timeout, with\u001b[39;00m\n\u001b[0;32m   (...)\u001b[0m\n\u001b[1;32m   1130\u001b[0m     \u001b[39m# Returns a 2-tuple:\u001b[39;00m\n\u001b[1;32m   1131\u001b[0m     \u001b[39m#   (bool: whether successfully get data, any: data if successful else None)\u001b[39;00m\n\u001b[1;32m   1132\u001b[0m     \u001b[39mtry\u001b[39;00m:\n\u001b[0;32m-> 1133\u001b[0m         data \u001b[39m=\u001b[39m \u001b[39mself\u001b[39;49m\u001b[39m.\u001b[39;49m_data_queue\u001b[39m.\u001b[39;49mget(timeout\u001b[39m=\u001b[39;49mtimeout)\n\u001b[1;32m   1134\u001b[0m         \u001b[39mreturn\u001b[39;00m (\u001b[39mTrue\u001b[39;00m, data)\n\u001b[1;32m   1135\u001b[0m     \u001b[39mexcept\u001b[39;00m \u001b[39mException\u001b[39;00m \u001b[39mas\u001b[39;00m e:\n\u001b[1;32m   1136\u001b[0m         \u001b[39m# At timeout and error, we manually check whether any worker has\u001b[39;00m\n\u001b[1;32m   1137\u001b[0m         \u001b[39m# failed. Note that this is the only mechanism for Windows to detect\u001b[39;00m\n\u001b[1;32m   1138\u001b[0m         \u001b[39m# worker failures.\u001b[39;00m\n",
      "File \u001b[0;32m~/anaconda3/envs/llmattack/lib/python3.8/multiprocessing/queues.py:116\u001b[0m, in \u001b[0;36mQueue.get\u001b[0;34m(self, block, timeout)\u001b[0m\n\u001b[1;32m    114\u001b[0m         \u001b[39mself\u001b[39m\u001b[39m.\u001b[39m_rlock\u001b[39m.\u001b[39mrelease()\n\u001b[1;32m    115\u001b[0m \u001b[39m# unserialize the data after having released the lock\u001b[39;00m\n\u001b[0;32m--> 116\u001b[0m \u001b[39mreturn\u001b[39;00m _ForkingPickler\u001b[39m.\u001b[39;49mloads(res)\n",
      "File \u001b[0;32m~/anaconda3/envs/llmattack/lib/python3.8/site-packages/torch/multiprocessing/reductions.py:312\u001b[0m, in \u001b[0;36mrebuild_storage_fd\u001b[0;34m(cls, df, size)\u001b[0m\n\u001b[1;32m    310\u001b[0m \u001b[39mif\u001b[39;00m storage \u001b[39mis\u001b[39;00m \u001b[39mnot\u001b[39;00m \u001b[39mNone\u001b[39;00m:\n\u001b[1;32m    311\u001b[0m     \u001b[39mreturn\u001b[39;00m storage\n\u001b[0;32m--> 312\u001b[0m storage \u001b[39m=\u001b[39m \u001b[39mcls\u001b[39;49m\u001b[39m.\u001b[39;49m_new_shared_fd_cpu(fd, size)\n\u001b[1;32m    313\u001b[0m shared_cache[fd_id(fd)] \u001b[39m=\u001b[39m StorageWeakRef(storage)\n\u001b[1;32m    314\u001b[0m \u001b[39mreturn\u001b[39;00m storage\n",
      "\u001b[0;31mKeyboardInterrupt\u001b[0m: "
     ]
    }
   ],
   "source": [
    "def create_initial_patch(size=(10, 10), device='cpu'):\n",
    "    \"\"\"Create an initial random patch.\"\"\"\n",
    "    patch = torch.rand((3,) + size, requires_grad=True, device=device)  # Add channel dimension\n",
    "    return patch\n",
    "\n",
    "def apply_patch(original_images, patch):\n",
    "    \"\"\"Apply the patch to the top-left corner of each image in a batch.\"\"\"\n",
    "    patched_images = original_images.clone()\n",
    "    c, h, w = patch.shape  # Get the shape of the patch\n",
    "    patched_images[:, :, :h, :w] = patch  # Apply the patch\n",
    "    return patched_images\n",
    "\n",
    "def train_patch(model, patch, train_loader, device='cpu', epochs=5):\n",
    "    \"\"\"Train the patch to perform an untargeted attack.\"\"\"\n",
    "    optimizer = torch.optim.Adam([patch], lr=0.01)\n",
    "\n",
    "    for epoch in range(epochs):\n",
    "        total_loss = 0.0\n",
    "        num_batches = 0\n",
    "\n",
    "        for images, _ in train_loader:\n",
    "            images = images.to(device)\n",
    "            patched_images = apply_patch(images, patch)\n",
    "\n",
    "            outputs = model(patched_images)\n",
    "            loss = -torch.nn.functional.nll_loss(outputs, outputs.max(1)[1])\n",
    "            \n",
    "            optimizer.zero_grad()\n",
    "            loss.backward()\n",
    "            optimizer.step()\n",
    "\n",
    "            total_loss += loss.item()\n",
    "            num_batches += 1\n",
    "\n",
    "        average_loss = total_loss / num_batches\n",
    "        print(f\"Epoch [{epoch+1}/{epochs}], Average Loss: {average_loss:.4f}\")\n",
    "    # save the patch\n",
    "    torch.save(patch, f'./saved_models/{MODEL_NAMEs[0]}/untargeted_patch_{patch_size[0]}x{patch_size[1]}_ep{epochs}_dire_tl.pt')\n",
    "    return patch\n",
    "\n",
    "\n",
    "# Create the initial patch\n",
    "patch_size = (3, 3)  # Define the size of the patch\n",
    "initial_patch = create_initial_patch(size=patch_size, device=device)\n",
    "\n",
    "# Train the patch\n",
    "trained_patch = train_patch(model, initial_patch, trainloader, device=device, epochs=20)"
   ]
  },
  {
   "cell_type": "code",
   "execution_count": 22,
   "metadata": {},
   "outputs": [
    {
     "data": {
      "image/png": "[encoded data removed]",
      "text/plain": [
       "<Figure size 640x480 with 1 Axes>"
      ]
     },
     "metadata": {},
     "output_type": "display_data"
    }
   ],
   "source": [
    "# visualize the trained patch here \n",
    "def visualize_patch(patch):\n",
    "    \"\"\"Visualize the adversarial patch.\"\"\"\n",
    "    # Move patch to CPU and convert to numpy\n",
    "    patch_np = patch.detach().cpu().numpy()\n",
    "    \n",
    "    # Reshape and normalize the patch for visualization\n",
    "    patch_np = np.transpose(patch_np, (1, 2, 0))  # Change from (C, H, W) to (H, W, C)\n",
    "    patch_np = (patch_np - patch_np.min()) / (patch_np.max() - patch_np.min())  # Normalize to [0, 1]\n",
    "\n",
    "    plt.imshow(patch_np)\n",
    "    plt.title(\"Adversarial Patch\")\n",
    "    plt.show()\n",
    "\n",
    "# Visualize the trained patch\n",
    "visualize_patch(trained_patch)"
   ]
  },
  {
   "cell_type": "markdown",
   "metadata": {},
   "source": [
    "## Untargeted"
   ]
  },
  {
   "cell_type": "code",
   "execution_count": 23,
   "id": "5cae6f85-89a1-4876-a9db-f2f0759f0da2",
   "metadata": {},
   "outputs": [
    {
     "name": "stdout",
     "output_type": "stream",
     "text": [
      "Accuracy of the model after the attack: 47.41 %\n",
      "Predicted label distribution: [ 351 1343  905 2179  167 2507  255 1335   30  928]\n"
     ]
    }
   ],
   "source": [
    "def test_model_with_patch(model, patch, test_loader, device):\n",
    "    \"\"\"Evaluate the model on the test set with the adversarial patch applied.\"\"\"\n",
    "    model.eval()  # Set the model to evaluation mode\n",
    "    correct = 0\n",
    "    total = 0\n",
    "    predicted_distribution = torch.zeros(len(test_loader.dataset.classes), dtype=torch.int64)\n",
    "\n",
    "    with torch.no_grad():\n",
    "        for images, labels in test_loader:\n",
    "            images, labels = images.to(device), labels.to(device)\n",
    "            patched_images = apply_patch(images, patch)  # Apply the patch\n",
    "\n",
    "            outputs = model(patched_images)\n",
    "            _, predicted = torch.max(outputs.data, 1)\n",
    "            total += labels.size(0)\n",
    "\n",
    "            correct += (predicted == labels).sum().item()\n",
    "\n",
    "            for label in predicted:\n",
    "                predicted_distribution[label] += 1\n",
    "\n",
    "    accuracy = 100 * correct / total\n",
    "    return accuracy, predicted_distribution\n",
    "\n",
    "accuracy_after_attack, label_distribution = test_model_with_patch(model, trained_patch, testloader, device)\n",
    "\n",
    "print('Accuracy of the model after the attack: {:.2f} %'.format(accuracy_after_attack))\n",
    "print('Predicted label distribution:', label_distribution.numpy())"
   ]
  },
  {
   "cell_type": "code",
   "execution_count": 53,
   "id": "e6680218-b7b9-43ae-8faa-247b79ea20f1",
   "metadata": {},
   "outputs": [
    {
     "name": "stdout",
     "output_type": "stream",
     "text": [
      "Epoch [1/20], Loss: 0.3464\n",
      "Epoch [2/20], Loss: 0.2037\n",
      "Epoch [3/20], Loss: 0.1510\n"
     ]
    },
    {
     "ename": "KeyboardInterrupt",
     "evalue": "",
     "output_type": "error",
     "traceback": [
      "\u001b[0;31m---------------------------------------------------------------------------\u001b[0m",
      "\u001b[0;31mKeyboardInterrupt\u001b[0m                         Traceback (most recent call last)",
      "\u001b[1;32m/home/yo46/test/adversarial_patch/adversarial_patch.ipynb Cell 17\u001b[0m line \u001b[0;36m2\n\u001b[1;32m     <a href='vscode-notebook-cell://ssh-remote%2Bhl279-cmp-02.egr.duke.edu/home/yo46/test/adversarial_patch/adversarial_patch.ipynb#X11sdnNjb2RlLXJlbW90ZQ%3D%3D?line=22'>23</a>\u001b[0m initial_patch \u001b[39m=\u001b[39m create_initial_patch(size\u001b[39m=\u001b[39mpatch_size, device\u001b[39m=\u001b[39mdevice)\n\u001b[1;32m     <a href='vscode-notebook-cell://ssh-remote%2Bhl279-cmp-02.egr.duke.edu/home/yo46/test/adversarial_patch/adversarial_patch.ipynb#X11sdnNjb2RlLXJlbW90ZQ%3D%3D?line=23'>24</a>\u001b[0m target_class \u001b[39m=\u001b[39m \u001b[39m5\u001b[39m  \u001b[39m# Example: 0 for the first class in CIFAR-10\u001b[39;00m\n\u001b[0;32m---> <a href='vscode-notebook-cell://ssh-remote%2Bhl279-cmp-02.egr.duke.edu/home/yo46/test/adversarial_patch/adversarial_patch.ipynb#X11sdnNjb2RlLXJlbW90ZQ%3D%3D?line=24'>25</a>\u001b[0m trained_patch_targeted \u001b[39m=\u001b[39m train_patch_targeted(model, initial_patch, trainloader, target_class, device\u001b[39m=\u001b[39;49mdevice, epochs\u001b[39m=\u001b[39;49m\u001b[39m20\u001b[39;49m)\n",
      "\u001b[1;32m/home/yo46/test/adversarial_patch/adversarial_patch.ipynb Cell 17\u001b[0m line \u001b[0;36m7\n\u001b[1;32m      <a href='vscode-notebook-cell://ssh-remote%2Bhl279-cmp-02.egr.duke.edu/home/yo46/test/adversarial_patch/adversarial_patch.ipynb#X11sdnNjb2RlLXJlbW90ZQ%3D%3D?line=3'>4</a>\u001b[0m criterion \u001b[39m=\u001b[39m torch\u001b[39m.\u001b[39mnn\u001b[39m.\u001b[39mCrossEntropyLoss()\n\u001b[1;32m      <a href='vscode-notebook-cell://ssh-remote%2Bhl279-cmp-02.egr.duke.edu/home/yo46/test/adversarial_patch/adversarial_patch.ipynb#X11sdnNjb2RlLXJlbW90ZQ%3D%3D?line=5'>6</a>\u001b[0m \u001b[39mfor\u001b[39;00m epoch \u001b[39min\u001b[39;00m \u001b[39mrange\u001b[39m(epochs):\n\u001b[0;32m----> <a href='vscode-notebook-cell://ssh-remote%2Bhl279-cmp-02.egr.duke.edu/home/yo46/test/adversarial_patch/adversarial_patch.ipynb#X11sdnNjb2RlLXJlbW90ZQ%3D%3D?line=6'>7</a>\u001b[0m     \u001b[39mfor\u001b[39;00m images, _ \u001b[39min\u001b[39;00m train_loader:\n\u001b[1;32m      <a href='vscode-notebook-cell://ssh-remote%2Bhl279-cmp-02.egr.duke.edu/home/yo46/test/adversarial_patch/adversarial_patch.ipynb#X11sdnNjb2RlLXJlbW90ZQ%3D%3D?line=7'>8</a>\u001b[0m         target_labels \u001b[39m=\u001b[39m torch\u001b[39m.\u001b[39mfull((\u001b[39mlen\u001b[39m(images),), target_class, device\u001b[39m=\u001b[39mdevice)\n\u001b[1;32m      <a href='vscode-notebook-cell://ssh-remote%2Bhl279-cmp-02.egr.duke.edu/home/yo46/test/adversarial_patch/adversarial_patch.ipynb#X11sdnNjb2RlLXJlbW90ZQ%3D%3D?line=8'>9</a>\u001b[0m         images \u001b[39m=\u001b[39m images\u001b[39m.\u001b[39mto(device)\n",
      "File \u001b[0;32m~/anaconda3/envs/llmattack/lib/python3.8/site-packages/torch/utils/data/dataloader.py:634\u001b[0m, in \u001b[0;36m_BaseDataLoaderIter.__next__\u001b[0;34m(self)\u001b[0m\n\u001b[1;32m    631\u001b[0m \u001b[39mif\u001b[39;00m \u001b[39mself\u001b[39m\u001b[39m.\u001b[39m_sampler_iter \u001b[39mis\u001b[39;00m \u001b[39mNone\u001b[39;00m:\n\u001b[1;32m    632\u001b[0m     \u001b[39m# TODO(https://github.com/pytorch/pytorch/issues/76750)\u001b[39;00m\n\u001b[1;32m    633\u001b[0m     \u001b[39mself\u001b[39m\u001b[39m.\u001b[39m_reset()  \u001b[39m# type: ignore[call-arg]\u001b[39;00m\n\u001b[0;32m--> 634\u001b[0m data \u001b[39m=\u001b[39m \u001b[39mself\u001b[39;49m\u001b[39m.\u001b[39;49m_next_data()\n\u001b[1;32m    635\u001b[0m \u001b[39mself\u001b[39m\u001b[39m.\u001b[39m_num_yielded \u001b[39m+\u001b[39m\u001b[39m=\u001b[39m \u001b[39m1\u001b[39m\n\u001b[1;32m    636\u001b[0m \u001b[39mif\u001b[39;00m \u001b[39mself\u001b[39m\u001b[39m.\u001b[39m_dataset_kind \u001b[39m==\u001b[39m _DatasetKind\u001b[39m.\u001b[39mIterable \u001b[39mand\u001b[39;00m \\\n\u001b[1;32m    637\u001b[0m         \u001b[39mself\u001b[39m\u001b[39m.\u001b[39m_IterableDataset_len_called \u001b[39mis\u001b[39;00m \u001b[39mnot\u001b[39;00m \u001b[39mNone\u001b[39;00m \u001b[39mand\u001b[39;00m \\\n\u001b[1;32m    638\u001b[0m         \u001b[39mself\u001b[39m\u001b[39m.\u001b[39m_num_yielded \u001b[39m>\u001b[39m \u001b[39mself\u001b[39m\u001b[39m.\u001b[39m_IterableDataset_len_called:\n",
      "File \u001b[0;32m~/anaconda3/envs/llmattack/lib/python3.8/site-packages/torch/utils/data/dataloader.py:1329\u001b[0m, in \u001b[0;36m_MultiProcessingDataLoaderIter._next_data\u001b[0;34m(self)\u001b[0m\n\u001b[1;32m   1326\u001b[0m     \u001b[39mreturn\u001b[39;00m \u001b[39mself\u001b[39m\u001b[39m.\u001b[39m_process_data(data)\n\u001b[1;32m   1328\u001b[0m \u001b[39massert\u001b[39;00m \u001b[39mnot\u001b[39;00m \u001b[39mself\u001b[39m\u001b[39m.\u001b[39m_shutdown \u001b[39mand\u001b[39;00m \u001b[39mself\u001b[39m\u001b[39m.\u001b[39m_tasks_outstanding \u001b[39m>\u001b[39m \u001b[39m0\u001b[39m\n\u001b[0;32m-> 1329\u001b[0m idx, data \u001b[39m=\u001b[39m \u001b[39mself\u001b[39;49m\u001b[39m.\u001b[39;49m_get_data()\n\u001b[1;32m   1330\u001b[0m \u001b[39mself\u001b[39m\u001b[39m.\u001b[39m_tasks_outstanding \u001b[39m-\u001b[39m\u001b[39m=\u001b[39m \u001b[39m1\u001b[39m\n\u001b[1;32m   1331\u001b[0m \u001b[39mif\u001b[39;00m \u001b[39mself\u001b[39m\u001b[39m.\u001b[39m_dataset_kind \u001b[39m==\u001b[39m _DatasetKind\u001b[39m.\u001b[39mIterable:\n\u001b[1;32m   1332\u001b[0m     \u001b[39m# Check for _IterableDatasetStopIteration\u001b[39;00m\n",
      "File \u001b[0;32m~/anaconda3/envs/llmattack/lib/python3.8/site-packages/torch/utils/data/dataloader.py:1295\u001b[0m, in \u001b[0;36m_MultiProcessingDataLoaderIter._get_data\u001b[0;34m(self)\u001b[0m\n\u001b[1;32m   1291\u001b[0m     \u001b[39m# In this case, `self._data_queue` is a `queue.Queue`,. But we don't\u001b[39;00m\n\u001b[1;32m   1292\u001b[0m     \u001b[39m# need to call `.task_done()` because we don't use `.join()`.\u001b[39;00m\n\u001b[1;32m   1293\u001b[0m \u001b[39melse\u001b[39;00m:\n\u001b[1;32m   1294\u001b[0m     \u001b[39mwhile\u001b[39;00m \u001b[39mTrue\u001b[39;00m:\n\u001b[0;32m-> 1295\u001b[0m         success, data \u001b[39m=\u001b[39m \u001b[39mself\u001b[39;49m\u001b[39m.\u001b[39;49m_try_get_data()\n\u001b[1;32m   1296\u001b[0m         \u001b[39mif\u001b[39;00m success:\n\u001b[1;32m   1297\u001b[0m             \u001b[39mreturn\u001b[39;00m data\n",
      "File \u001b[0;32m~/anaconda3/envs/llmattack/lib/python3.8/site-packages/torch/utils/data/dataloader.py:1133\u001b[0m, in \u001b[0;36m_MultiProcessingDataLoaderIter._try_get_data\u001b[0;34m(self, timeout)\u001b[0m\n\u001b[1;32m   1120\u001b[0m \u001b[39mdef\u001b[39;00m \u001b[39m_try_get_data\u001b[39m(\u001b[39mself\u001b[39m, timeout\u001b[39m=\u001b[39m_utils\u001b[39m.\u001b[39mMP_STATUS_CHECK_INTERVAL):\n\u001b[1;32m   1121\u001b[0m     \u001b[39m# Tries to fetch data from `self._data_queue` once for a given timeout.\u001b[39;00m\n\u001b[1;32m   1122\u001b[0m     \u001b[39m# This can also be used as inner loop of fetching without timeout, with\u001b[39;00m\n\u001b[0;32m   (...)\u001b[0m\n\u001b[1;32m   1130\u001b[0m     \u001b[39m# Returns a 2-tuple:\u001b[39;00m\n\u001b[1;32m   1131\u001b[0m     \u001b[39m#   (bool: whether successfully get data, any: data if successful else None)\u001b[39;00m\n\u001b[1;32m   1132\u001b[0m     \u001b[39mtry\u001b[39;00m:\n\u001b[0;32m-> 1133\u001b[0m         data \u001b[39m=\u001b[39m \u001b[39mself\u001b[39;49m\u001b[39m.\u001b[39;49m_data_queue\u001b[39m.\u001b[39;49mget(timeout\u001b[39m=\u001b[39;49mtimeout)\n\u001b[1;32m   1134\u001b[0m         \u001b[39mreturn\u001b[39;00m (\u001b[39mTrue\u001b[39;00m, data)\n\u001b[1;32m   1135\u001b[0m     \u001b[39mexcept\u001b[39;00m \u001b[39mException\u001b[39;00m \u001b[39mas\u001b[39;00m e:\n\u001b[1;32m   1136\u001b[0m         \u001b[39m# At timeout and error, we manually check whether any worker has\u001b[39;00m\n\u001b[1;32m   1137\u001b[0m         \u001b[39m# failed. Note that this is the only mechanism for Windows to detect\u001b[39;00m\n\u001b[1;32m   1138\u001b[0m         \u001b[39m# worker failures.\u001b[39;00m\n",
      "File \u001b[0;32m~/anaconda3/envs/llmattack/lib/python3.8/multiprocessing/queues.py:107\u001b[0m, in \u001b[0;36mQueue.get\u001b[0;34m(self, block, timeout)\u001b[0m\n\u001b[1;32m    105\u001b[0m \u001b[39mif\u001b[39;00m block:\n\u001b[1;32m    106\u001b[0m     timeout \u001b[39m=\u001b[39m deadline \u001b[39m-\u001b[39m time\u001b[39m.\u001b[39mmonotonic()\n\u001b[0;32m--> 107\u001b[0m     \u001b[39mif\u001b[39;00m \u001b[39mnot\u001b[39;00m \u001b[39mself\u001b[39;49m\u001b[39m.\u001b[39;49m_poll(timeout):\n\u001b[1;32m    108\u001b[0m         \u001b[39mraise\u001b[39;00m Empty\n\u001b[1;32m    109\u001b[0m \u001b[39melif\u001b[39;00m \u001b[39mnot\u001b[39;00m \u001b[39mself\u001b[39m\u001b[39m.\u001b[39m_poll():\n",
      "File \u001b[0;32m~/anaconda3/envs/llmattack/lib/python3.8/multiprocessing/connection.py:257\u001b[0m, in \u001b[0;36m_ConnectionBase.poll\u001b[0;34m(self, timeout)\u001b[0m\n\u001b[1;32m    255\u001b[0m \u001b[39mself\u001b[39m\u001b[39m.\u001b[39m_check_closed()\n\u001b[1;32m    256\u001b[0m \u001b[39mself\u001b[39m\u001b[39m.\u001b[39m_check_readable()\n\u001b[0;32m--> 257\u001b[0m \u001b[39mreturn\u001b[39;00m \u001b[39mself\u001b[39;49m\u001b[39m.\u001b[39;49m_poll(timeout)\n",
      "File \u001b[0;32m~/anaconda3/envs/llmattack/lib/python3.8/multiprocessing/connection.py:424\u001b[0m, in \u001b[0;36mConnection._poll\u001b[0;34m(self, timeout)\u001b[0m\n\u001b[1;32m    423\u001b[0m \u001b[39mdef\u001b[39;00m \u001b[39m_poll\u001b[39m(\u001b[39mself\u001b[39m, timeout):\n\u001b[0;32m--> 424\u001b[0m     r \u001b[39m=\u001b[39m wait([\u001b[39mself\u001b[39;49m], timeout)\n\u001b[1;32m    425\u001b[0m     \u001b[39mreturn\u001b[39;00m \u001b[39mbool\u001b[39m(r)\n",
      "File \u001b[0;32m~/anaconda3/envs/llmattack/lib/python3.8/multiprocessing/connection.py:931\u001b[0m, in \u001b[0;36mwait\u001b[0;34m(object_list, timeout)\u001b[0m\n\u001b[1;32m    928\u001b[0m     deadline \u001b[39m=\u001b[39m time\u001b[39m.\u001b[39mmonotonic() \u001b[39m+\u001b[39m timeout\n\u001b[1;32m    930\u001b[0m \u001b[39mwhile\u001b[39;00m \u001b[39mTrue\u001b[39;00m:\n\u001b[0;32m--> 931\u001b[0m     ready \u001b[39m=\u001b[39m selector\u001b[39m.\u001b[39;49mselect(timeout)\n\u001b[1;32m    932\u001b[0m     \u001b[39mif\u001b[39;00m ready:\n\u001b[1;32m    933\u001b[0m         \u001b[39mreturn\u001b[39;00m [key\u001b[39m.\u001b[39mfileobj \u001b[39mfor\u001b[39;00m (key, events) \u001b[39min\u001b[39;00m ready]\n",
      "File \u001b[0;32m~/anaconda3/envs/llmattack/lib/python3.8/selectors.py:415\u001b[0m, in \u001b[0;36m_PollLikeSelector.select\u001b[0;34m(self, timeout)\u001b[0m\n\u001b[1;32m    413\u001b[0m ready \u001b[39m=\u001b[39m []\n\u001b[1;32m    414\u001b[0m \u001b[39mtry\u001b[39;00m:\n\u001b[0;32m--> 415\u001b[0m     fd_event_list \u001b[39m=\u001b[39m \u001b[39mself\u001b[39;49m\u001b[39m.\u001b[39;49m_selector\u001b[39m.\u001b[39;49mpoll(timeout)\n\u001b[1;32m    416\u001b[0m \u001b[39mexcept\u001b[39;00m \u001b[39mInterruptedError\u001b[39;00m:\n\u001b[1;32m    417\u001b[0m     \u001b[39mreturn\u001b[39;00m ready\n",
      "\u001b[0;31mKeyboardInterrupt\u001b[0m: "
     ]
    }
   ],
   "source": [
    "def train_patch_targeted(model, patch, train_loader, target_class, device='cpu', epochs=5):\n",
    "    \"\"\"Train the patch to perform a targeted attack.\"\"\"\n",
    "    optimizer = torch.optim.Adam([patch], lr=0.01)\n",
    "    criterion = torch.nn.CrossEntropyLoss()\n",
    "\n",
    "    for epoch in range(epochs):\n",
    "        for images, _ in train_loader:\n",
    "            target_labels = torch.full((len(images),), target_class, device=device)\n",
    "            images = images.to(device)\n",
    "            patched_images = apply_patch(images, patch)\n",
    "\n",
    "            optimizer.zero_grad()\n",
    "            outputs = model(patched_images)\n",
    "            loss = criterion(outputs, target_labels)\n",
    "            loss.backward()\n",
    "            optimizer.step()\n",
    "\n",
    "        print(f\"Epoch [{epoch+1}/{epochs}], Loss: {loss.item():.4f}\")\n",
    "\n",
    "    return patch\n",
    "\n",
    "patch_size = (10, 10)  # Define the size of the patch\n",
    "initial_patch = create_initial_patch(size=patch_size, device=device)\n",
    "target_class = 5  # Example: 0 for the first class in CIFAR-10\n",
    "trained_patch_targeted = train_patch_targeted(model, initial_patch, trainloader, target_class, device=device, epochs=20)\n"
   ]
  },
  {
   "cell_type": "code",
   "execution_count": 26,
   "id": "6c05a40f-21ba-4de1-825a-344f72b6fab9",
   "metadata": {},
   "outputs": [
    {
     "name": "stdout",
     "output_type": "stream",
     "text": [
      "Accuracy of the model after the attack: 10.69 %\n",
      "Predicted label distribution: [   3   10    1    3   11 9931    1    7    4   29]\n"
     ]
    }
   ],
   "source": [
    "accuracy_after_attack, label_distribution = test_model_with_patch(model, trained_patch_targeted, testloader, device)\n",
    "\n",
    "print('Accuracy of the model after the attack: {:.2f} %'.format(accuracy_after_attack))\n",
    "print('Predicted label distribution:', label_distribution.numpy())"
   ]
  },
  {
   "cell_type": "markdown",
   "id": "92895363-4c38-42cc-a78b-3ee81b9c86e9",
   "metadata": {},
   "source": [
    "## Targeted"
   ]
  },
  {
   "cell_type": "markdown",
   "metadata": {},
   "source": [
    "### training process"
   ]
  },
  {
   "cell_type": "code",
   "execution_count": 56,
   "metadata": {},
   "outputs": [],
   "source": [
    "def patch_attack(model, target_class, patch_size=3, num_epochs=5):\n",
    "    # Leave a small set of images out to check generalization\n",
    "    # In most of our experiments, the performance on the hold-out data points\n",
    "    # was as good as on the training set. Overfitting was little possible due\n",
    "    # to the small size of the patches.\n",
    "    \n",
    "    \n",
    "    train_loader = torch.utils.data.DataLoader(trainset, batch_size=128, shuffle=True, drop_last=True, num_workers=8)\n",
    "    val_loader = torch.utils.data.DataLoader(testset, batch_size=128, shuffle=False, drop_last=False, num_workers=2)\n",
    "\n",
    "    # Create parameter and optimizer\n",
    "    if not isinstance(patch_size, tuple):\n",
    "        patch_size = (patch_size, patch_size)\n",
    "    patch = nn.Parameter(torch.zeros(3, patch_size[0], patch_size[1]), requires_grad=True)\n",
    "    # optimizer = torch.optim.SGD([patch], lr=1e-1, momentum=0.8)\n",
    "    optimizer = torch.optim.Adam([patch], lr=0.01)\n",
    "    loss_module = nn.CrossEntropyLoss()\n",
    "    \n",
    "    # Training loop\n",
    "    for epoch in range(num_epochs):\n",
    "        t = tqdm(train_loader, leave=False)\n",
    "        for img, _ in t:\n",
    "            img = place_patch(img, patch)\n",
    "            img = img.to(device)\n",
    "            pred = model(img)\n",
    "            labels = torch.zeros(img.shape[0], device=pred.device, dtype=torch.long).fill_(target_class)\n",
    "            loss = loss_module(pred, labels)\n",
    "            optimizer.zero_grad()\n",
    "            loss.mean().backward()\n",
    "            optimizer.step()\n",
    "            t.set_description(f\"Epoch {epoch}, Loss: {loss.item():4.2f}\")\n",
    "        print(f\"Epoch [{epoch+1}/{num_epochs}], Average Loss: {loss.mean():.4f}\")\n",
    "        \n",
    "    \n",
    "    # Final validation\n",
    "    acc, top5 = eval_patch(model, patch, val_loader, target_class)\n",
    "    \n",
    "    return patch.data, {\"acc\": acc.item(), \"top5\": top5.item()}\n"
   ]
  },
  {
   "cell_type": "code",
   "execution_count": 57,
   "metadata": {},
   "outputs": [
    {
     "data": {
      "application/vnd.jupyter.widget-view+json": {
       "model_id": "68fab3d68a83456299eff8a244e33a2a",
       "version_major": 2,
       "version_minor": 0
      },
      "text/plain": [
       "  0%|          | 0/390 [00:00<?, ?it/s]"
      ]
     },
     "metadata": {},
     "output_type": "display_data"
    },
    {
     "name": "stdout",
     "output_type": "stream",
     "text": [
      "Epoch [1/20], Average Loss: 0.2615\n"
     ]
    },
    {
     "data": {
      "application/vnd.jupyter.widget-view+json": {
       "model_id": "94bc5308e76f4df187005aa7b1cb837d",
       "version_major": 2,
       "version_minor": 0
      },
      "text/plain": [
       "  0%|          | 0/390 [00:00<?, ?it/s]"
      ]
     },
     "metadata": {},
     "output_type": "display_data"
    },
    {
     "name": "stdout",
     "output_type": "stream",
     "text": [
      "Epoch [2/20], Average Loss: 0.1527\n"
     ]
    },
    {
     "data": {
      "application/vnd.jupyter.widget-view+json": {
       "model_id": "5d8fd3e7d8484194885af42472d567b9",
       "version_major": 2,
       "version_minor": 0
      },
      "text/plain": [
       "  0%|          | 0/390 [00:00<?, ?it/s]"
      ]
     },
     "metadata": {},
     "output_type": "display_data"
    },
    {
     "name": "stdout",
     "output_type": "stream",
     "text": [
      "Epoch [3/20], Average Loss: 0.2056\n"
     ]
    },
    {
     "data": {
      "application/vnd.jupyter.widget-view+json": {
       "model_id": "03042fcecc5449a08ad4add50d6615ee",
       "version_major": 2,
       "version_minor": 0
      },
      "text/plain": [
       "  0%|          | 0/390 [00:00<?, ?it/s]"
      ]
     },
     "metadata": {},
     "output_type": "display_data"
    },
    {
     "name": "stdout",
     "output_type": "stream",
     "text": [
      "Epoch [4/20], Average Loss: 0.1286\n"
     ]
    },
    {
     "data": {
      "application/vnd.jupyter.widget-view+json": {
       "model_id": "1d4f33e40be84b4e8be8477cd51a1d5d",
       "version_major": 2,
       "version_minor": 0
      },
      "text/plain": [
       "  0%|          | 0/390 [00:00<?, ?it/s]"
      ]
     },
     "metadata": {},
     "output_type": "display_data"
    },
    {
     "name": "stdout",
     "output_type": "stream",
     "text": [
      "Epoch [5/20], Average Loss: 0.0500\n"
     ]
    },
    {
     "data": {
      "application/vnd.jupyter.widget-view+json": {
       "model_id": "faae24298bb6413db1fc4ecce82a10d9",
       "version_major": 2,
       "version_minor": 0
      },
      "text/plain": [
       "  0%|          | 0/390 [00:00<?, ?it/s]"
      ]
     },
     "metadata": {},
     "output_type": "display_data"
    },
    {
     "name": "stdout",
     "output_type": "stream",
     "text": [
      "Epoch [6/20], Average Loss: 0.1356\n"
     ]
    },
    {
     "data": {
      "application/vnd.jupyter.widget-view+json": {
       "model_id": "0f91da6aa51345998b4df3d438e11a39",
       "version_major": 2,
       "version_minor": 0
      },
      "text/plain": [
       "  0%|          | 0/390 [00:00<?, ?it/s]"
      ]
     },
     "metadata": {},
     "output_type": "display_data"
    },
    {
     "ename": "KeyboardInterrupt",
     "evalue": "",
     "output_type": "error",
     "traceback": [
      "\u001b[0;31m---------------------------------------------------------------------------\u001b[0m",
      "\u001b[0;31mKeyboardInterrupt\u001b[0m                         Traceback (most recent call last)",
      "\u001b[1;32m/home/yo46/test/adversarial_patch/adversarial_patch.ipynb Cell 22\u001b[0m line \u001b[0;36m1\n\u001b[0;32m----> <a href='vscode-notebook-cell://ssh-remote%2Bhl279-cmp-02.egr.duke.edu/home/yo46/test/adversarial_patch/adversarial_patch.ipynb#X50sdnNjb2RlLXJlbW90ZQ%3D%3D?line=0'>1</a>\u001b[0m patch_attack(model, target_class\u001b[39m=\u001b[39;49m\u001b[39m5\u001b[39;49m, patch_size\u001b[39m=\u001b[39;49m(\u001b[39m10\u001b[39;49m,\u001b[39m10\u001b[39;49m), num_epochs\u001b[39m=\u001b[39;49m\u001b[39m20\u001b[39;49m)\n",
      "\u001b[1;32m/home/yo46/test/adversarial_patch/adversarial_patch.ipynb Cell 22\u001b[0m line \u001b[0;36m2\n\u001b[1;32m     <a href='vscode-notebook-cell://ssh-remote%2Bhl279-cmp-02.egr.duke.edu/home/yo46/test/adversarial_patch/adversarial_patch.ipynb#X50sdnNjb2RlLXJlbW90ZQ%3D%3D?line=20'>21</a>\u001b[0m t \u001b[39m=\u001b[39m tqdm(train_loader, leave\u001b[39m=\u001b[39m\u001b[39mFalse\u001b[39;00m)\n\u001b[1;32m     <a href='vscode-notebook-cell://ssh-remote%2Bhl279-cmp-02.egr.duke.edu/home/yo46/test/adversarial_patch/adversarial_patch.ipynb#X50sdnNjb2RlLXJlbW90ZQ%3D%3D?line=21'>22</a>\u001b[0m \u001b[39mfor\u001b[39;00m img, _ \u001b[39min\u001b[39;00m t:\n\u001b[0;32m---> <a href='vscode-notebook-cell://ssh-remote%2Bhl279-cmp-02.egr.duke.edu/home/yo46/test/adversarial_patch/adversarial_patch.ipynb#X50sdnNjb2RlLXJlbW90ZQ%3D%3D?line=22'>23</a>\u001b[0m     img \u001b[39m=\u001b[39m place_patch(img, patch)\n\u001b[1;32m     <a href='vscode-notebook-cell://ssh-remote%2Bhl279-cmp-02.egr.duke.edu/home/yo46/test/adversarial_patch/adversarial_patch.ipynb#X50sdnNjb2RlLXJlbW90ZQ%3D%3D?line=23'>24</a>\u001b[0m     img \u001b[39m=\u001b[39m img\u001b[39m.\u001b[39mto(device)\n\u001b[1;32m     <a href='vscode-notebook-cell://ssh-remote%2Bhl279-cmp-02.egr.duke.edu/home/yo46/test/adversarial_patch/adversarial_patch.ipynb#X50sdnNjb2RlLXJlbW90ZQ%3D%3D?line=24'>25</a>\u001b[0m     pred \u001b[39m=\u001b[39m model(img)\n",
      "\u001b[1;32m/home/yo46/test/adversarial_patch/adversarial_patch.ipynb Cell 22\u001b[0m line \u001b[0;36m5\n\u001b[1;32m      <a href='vscode-notebook-cell://ssh-remote%2Bhl279-cmp-02.egr.duke.edu/home/yo46/test/adversarial_patch/adversarial_patch.ipynb#X50sdnNjb2RlLXJlbW90ZQ%3D%3D?line=2'>3</a>\u001b[0m     h_offset \u001b[39m=\u001b[39m np\u001b[39m.\u001b[39mrandom\u001b[39m.\u001b[39mrandint(\u001b[39m0\u001b[39m,img\u001b[39m.\u001b[39mshape[\u001b[39m2\u001b[39m]\u001b[39m-\u001b[39mpatch\u001b[39m.\u001b[39mshape[\u001b[39m1\u001b[39m]\u001b[39m-\u001b[39m\u001b[39m1\u001b[39m)\n\u001b[1;32m      <a href='vscode-notebook-cell://ssh-remote%2Bhl279-cmp-02.egr.duke.edu/home/yo46/test/adversarial_patch/adversarial_patch.ipynb#X50sdnNjb2RlLXJlbW90ZQ%3D%3D?line=3'>4</a>\u001b[0m     w_offset \u001b[39m=\u001b[39m np\u001b[39m.\u001b[39mrandom\u001b[39m.\u001b[39mrandint(\u001b[39m0\u001b[39m,img\u001b[39m.\u001b[39mshape[\u001b[39m3\u001b[39m]\u001b[39m-\u001b[39mpatch\u001b[39m.\u001b[39mshape[\u001b[39m2\u001b[39m]\u001b[39m-\u001b[39m\u001b[39m1\u001b[39m)\n\u001b[0;32m----> <a href='vscode-notebook-cell://ssh-remote%2Bhl279-cmp-02.egr.duke.edu/home/yo46/test/adversarial_patch/adversarial_patch.ipynb#X50sdnNjb2RlLXJlbW90ZQ%3D%3D?line=4'>5</a>\u001b[0m     img[i,:,h_offset:h_offset\u001b[39m+\u001b[39;49mpatch\u001b[39m.\u001b[39;49mshape[\u001b[39m1\u001b[39;49m],w_offset:w_offset\u001b[39m+\u001b[39;49mpatch\u001b[39m.\u001b[39;49mshape[\u001b[39m2\u001b[39;49m]] \u001b[39m=\u001b[39m patch_forward(patch)\n\u001b[1;32m      <a href='vscode-notebook-cell://ssh-remote%2Bhl279-cmp-02.egr.duke.edu/home/yo46/test/adversarial_patch/adversarial_patch.ipynb#X50sdnNjb2RlLXJlbW90ZQ%3D%3D?line=5'>6</a>\u001b[0m \u001b[39mreturn\u001b[39;00m img\n",
      "\u001b[0;31mKeyboardInterrupt\u001b[0m: "
     ]
    }
   ],
   "source": [
    "patch_attack(model, target_class=5, patch_size=(10,10), num_epochs=20)"
   ]
  },
  {
   "cell_type": "code",
   "execution_count": 47,
   "metadata": {},
   "outputs": [],
   "source": [
    "# Load evaluation results of the pretrained patches\n",
    "json_results_file = os.path.join(CHECKPOINT_PATH, \"patch_results.json\")\n",
    "json_results = {}\n",
    "if os.path.isfile(json_results_file):\n",
    "    with open(json_results_file, \"r\") as f:\n",
    "        json_results = json.load(f)\n",
    "        \n",
    "# Save the new patches via calling this function\n",
    "def save_results(patch_dict):\n",
    "    result_dict = {cname: {psize: [t.item() if isinstance(t, torch.Tensor) else t \n",
    "                                   for t in patch_dict[cname][psize][\"results\"]] \n",
    "                           for psize in patch_dict[cname]} \n",
    "                   for cname in patch_dict}\n",
    "    with open(os.path.join(CHECKPOINT_PATH, \"patch_results.json\"), \"w\") as f:\n",
    "        json.dump(result_dict, f, indent=4)"
   ]
  },
  {
   "cell_type": "code",
   "execution_count": 48,
   "metadata": {},
   "outputs": [],
   "source": [
    "def get_patches(class_names, patch_sizes):\n",
    "    result_dict = dict()\n",
    "\n",
    "    # Loop over all classes and patch sizes\n",
    "    for name in class_names:\n",
    "        result_dict[name] = dict()\n",
    "        for patch_size in patch_sizes:\n",
    "            c = label_names.index(name)\n",
    "            file_name = os.path.join(CHECKPOINT_PATH, f\"{name}_{patch_size}_patch.pt\")\n",
    "            # Load patch if pretrained file exists, otherwise start training\n",
    "            if not os.path.isfile(file_name):\n",
    "                patch, val_results = patch_attack(model, target_class=c, patch_size=patch_size, num_epochs=5)\n",
    "                print(f\"Validation results for {name} and {patch_size}:\", val_results)\n",
    "                torch.save(patch, file_name)\n",
    "            else:\n",
    "                patch = torch.load(file_name)\n",
    "            # Load evaluation results if exist, otherwise manually evaluate the patch\n",
    "            if name in json_results:\n",
    "                results = json_results[name][str(patch_size)]\n",
    "            else:\n",
    "                results = eval_patch(model, patch, testloader, target_class=c)    \n",
    "            \n",
    "            # Store results and the patches in a dict for better access\n",
    "            result_dict[name][patch_size] = {\n",
    "                \"results\": results,\n",
    "                \"patch\": patch\n",
    "            }\n",
    "        \n",
    "    return result_dict"
   ]
  },
  {
   "cell_type": "code",
   "execution_count": 49,
   "metadata": {},
   "outputs": [
    {
     "data": {
      "application/vnd.jupyter.widget-view+json": {
       "model_id": "317dca9b54974e64b06dff598a62702a",
       "version_major": 2,
       "version_minor": 0
      },
      "text/plain": [
       "Validating...:   0%|          | 0/79 [00:00<?, ?it/s]"
      ]
     },
     "metadata": {},
     "output_type": "display_data"
    },
    {
     "data": {
      "application/vnd.jupyter.widget-view+json": {
       "model_id": "db2c4ad3bd484816a18c5ea42c29d3ac",
       "version_major": 2,
       "version_minor": 0
      },
      "text/plain": [
       "Validating...:   0%|          | 0/79 [00:00<?, ?it/s]"
      ]
     },
     "metadata": {},
     "output_type": "display_data"
    },
    {
     "data": {
      "application/vnd.jupyter.widget-view+json": {
       "model_id": "2560b9834d744ac280c01239e65482dd",
       "version_major": 2,
       "version_minor": 0
      },
      "text/plain": [
       "Validating...:   0%|          | 0/79 [00:00<?, ?it/s]"
      ]
     },
     "metadata": {},
     "output_type": "display_data"
    },
    {
     "data": {
      "application/vnd.jupyter.widget-view+json": {
       "model_id": "72b8c804ee9541aa8f9f5060af657537",
       "version_major": 2,
       "version_minor": 0
      },
      "text/plain": [
       "Validating...:   0%|          | 0/79 [00:00<?, ?it/s]"
      ]
     },
     "metadata": {},
     "output_type": "display_data"
    },
    {
     "data": {
      "application/vnd.jupyter.widget-view+json": {
       "model_id": "b4901dbf73644c4ba9e0f83314110b0c",
       "version_major": 2,
       "version_minor": 0
      },
      "text/plain": [
       "Validating...:   0%|          | 0/79 [00:00<?, ?it/s]"
      ]
     },
     "metadata": {},
     "output_type": "display_data"
    },
    {
     "data": {
      "application/vnd.jupyter.widget-view+json": {
       "model_id": "370288f97c714abe8e09e8e953173749",
       "version_major": 2,
       "version_minor": 0
      },
      "text/plain": [
       "Validating...:   0%|          | 0/79 [00:00<?, ?it/s]"
      ]
     },
     "metadata": {},
     "output_type": "display_data"
    },
    {
     "data": {
      "application/vnd.jupyter.widget-view+json": {
       "model_id": "791e28db60144f7f87d4075412ffc048",
       "version_major": 2,
       "version_minor": 0
      },
      "text/plain": [
       "Validating...:   0%|          | 0/79 [00:00<?, ?it/s]"
      ]
     },
     "metadata": {},
     "output_type": "display_data"
    },
    {
     "data": {
      "application/vnd.jupyter.widget-view+json": {
       "model_id": "b1fc9579c5fc4e9da71215d3cc7710f0",
       "version_major": 2,
       "version_minor": 0
      },
      "text/plain": [
       "Validating...:   0%|          | 0/79 [00:00<?, ?it/s]"
      ]
     },
     "metadata": {},
     "output_type": "display_data"
    },
    {
     "data": {
      "application/vnd.jupyter.widget-view+json": {
       "model_id": "160b30d3b9214f669a5658aacb951b1e",
       "version_major": 2,
       "version_minor": 0
      },
      "text/plain": [
       "Validating...:   0%|          | 0/79 [00:00<?, ?it/s]"
      ]
     },
     "metadata": {},
     "output_type": "display_data"
    },
    {
     "data": {
      "application/vnd.jupyter.widget-view+json": {
       "model_id": "91ad5710f9e04ff7b40e4ec7af96e081",
       "version_major": 2,
       "version_minor": 0
      },
      "text/plain": [
       "Validating...:   0%|          | 0/79 [00:00<?, ?it/s]"
      ]
     },
     "metadata": {},
     "output_type": "display_data"
    },
    {
     "data": {
      "application/vnd.jupyter.widget-view+json": {
       "model_id": "8d3fdd29aea9411b963e49ccb857cb16",
       "version_major": 2,
       "version_minor": 0
      },
      "text/plain": [
       "Validating...:   0%|          | 0/79 [00:00<?, ?it/s]"
      ]
     },
     "metadata": {},
     "output_type": "display_data"
    },
    {
     "data": {
      "application/vnd.jupyter.widget-view+json": {
       "model_id": "b7488b583c274ff3b5838c2fe1a1e35e",
       "version_major": 2,
       "version_minor": 0
      },
      "text/plain": [
       "Validating...:   0%|          | 0/79 [00:00<?, ?it/s]"
      ]
     },
     "metadata": {},
     "output_type": "display_data"
    },
    {
     "data": {
      "application/vnd.jupyter.widget-view+json": {
       "model_id": "857e053256c84102965d8125fc6dd081",
       "version_major": 2,
       "version_minor": 0
      },
      "text/plain": [
       "Validating...:   0%|          | 0/79 [00:00<?, ?it/s]"
      ]
     },
     "metadata": {},
     "output_type": "display_data"
    },
    {
     "data": {
      "application/vnd.jupyter.widget-view+json": {
       "model_id": "2bd7a3ae102f40579a7fbd1e5399fe83",
       "version_major": 2,
       "version_minor": 0
      },
      "text/plain": [
       "  0%|          | 0/390 [00:00<?, ?it/s]"
      ]
     },
     "metadata": {},
     "output_type": "display_data"
    },
    {
     "data": {
      "application/vnd.jupyter.widget-view+json": {
       "model_id": "580a4e938c964095b7836139b9542a2e",
       "version_major": 2,
       "version_minor": 0
      },
      "text/plain": [
       "  0%|          | 0/390 [00:00<?, ?it/s]"
      ]
     },
     "metadata": {},
     "output_type": "display_data"
    },
    {
     "data": {
      "application/vnd.jupyter.widget-view+json": {
       "model_id": "c168429e854940198f2adbdaa5ce10b1",
       "version_major": 2,
       "version_minor": 0
      },
      "text/plain": [
       "  0%|          | 0/390 [00:00<?, ?it/s]"
      ]
     },
     "metadata": {},
     "output_type": "display_data"
    },
    {
     "data": {
      "application/vnd.jupyter.widget-view+json": {
       "model_id": "b765fa0a2cd241c1a62cd09083c30b79",
       "version_major": 2,
       "version_minor": 0
      },
      "text/plain": [
       "  0%|          | 0/390 [00:00<?, ?it/s]"
      ]
     },
     "metadata": {},
     "output_type": "display_data"
    },
    {
     "data": {
      "application/vnd.jupyter.widget-view+json": {
       "model_id": "25e0b49e739544489e168141209985bb",
       "version_major": 2,
       "version_minor": 0
      },
      "text/plain": [
       "  0%|          | 0/390 [00:00<?, ?it/s]"
      ]
     },
     "metadata": {},
     "output_type": "display_data"
    },
    {
     "data": {
      "application/vnd.jupyter.widget-view+json": {
       "model_id": "aeebdcb509794316aa692abde0bed5c1",
       "version_major": 2,
       "version_minor": 0
      },
      "text/plain": [
       "Validating...:   0%|          | 0/79 [00:00<?, ?it/s]"
      ]
     },
     "metadata": {},
     "output_type": "display_data"
    },
    {
     "name": "stdout",
     "output_type": "stream",
     "text": [
      "Validation results for bird and 9: {'acc': 0.9286944270133972, 'top5': 0.9996111392974854}\n"
     ]
    },
    {
     "data": {
      "application/vnd.jupyter.widget-view+json": {
       "model_id": "e2d9632ce2394179ba68f0b431242465",
       "version_major": 2,
       "version_minor": 0
      },
      "text/plain": [
       "Validating...:   0%|          | 0/79 [00:00<?, ?it/s]"
      ]
     },
     "metadata": {},
     "output_type": "display_data"
    },
    {
     "data": {
      "application/vnd.jupyter.widget-view+json": {
       "model_id": "fcdd5664121a48cca570e819fb20f45c",
       "version_major": 2,
       "version_minor": 0
      },
      "text/plain": [
       "  0%|          | 0/390 [00:00<?, ?it/s]"
      ]
     },
     "metadata": {},
     "output_type": "display_data"
    },
    {
     "data": {
      "application/vnd.jupyter.widget-view+json": {
       "model_id": "b03cd21a310f41b2a0b4eeef345369d4",
       "version_major": 2,
       "version_minor": 0
      },
      "text/plain": [
       "  0%|          | 0/390 [00:00<?, ?it/s]"
      ]
     },
     "metadata": {},
     "output_type": "display_data"
    },
    {
     "data": {
      "application/vnd.jupyter.widget-view+json": {
       "model_id": "6abe6f7f98c7449bb5bbb259c80eb808",
       "version_major": 2,
       "version_minor": 0
      },
      "text/plain": [
       "  0%|          | 0/390 [00:00<?, ?it/s]"
      ]
     },
     "metadata": {},
     "output_type": "display_data"
    },
    {
     "data": {
      "application/vnd.jupyter.widget-view+json": {
       "model_id": "3ad67acff2324b0993c8343cf4bbc94b",
       "version_major": 2,
       "version_minor": 0
      },
      "text/plain": [
       "  0%|          | 0/390 [00:00<?, ?it/s]"
      ]
     },
     "metadata": {},
     "output_type": "display_data"
    },
    {
     "data": {
      "application/vnd.jupyter.widget-view+json": {
       "model_id": "ebd59f7be6a7497ea5538b85ea788382",
       "version_major": 2,
       "version_minor": 0
      },
      "text/plain": [
       "  0%|          | 0/390 [00:00<?, ?it/s]"
      ]
     },
     "metadata": {},
     "output_type": "display_data"
    },
    {
     "data": {
      "application/vnd.jupyter.widget-view+json": {
       "model_id": "dd4af8f077fa40f289420ceb35672a98",
       "version_major": 2,
       "version_minor": 0
      },
      "text/plain": [
       "Validating...:   0%|          | 0/79 [00:00<?, ?it/s]"
      ]
     },
     "metadata": {},
     "output_type": "display_data"
    },
    {
     "name": "stdout",
     "output_type": "stream",
     "text": [
      "Validation results for bird and 16: {'acc': 0.9998055696487427, 'top5': 1.0}\n"
     ]
    },
    {
     "data": {
      "application/vnd.jupyter.widget-view+json": {
       "model_id": "64d32e3d4ae348fcb1bb1fbfb4a1ca2c",
       "version_major": 2,
       "version_minor": 0
      },
      "text/plain": [
       "Validating...:   0%|          | 0/79 [00:00<?, ?it/s]"
      ]
     },
     "metadata": {},
     "output_type": "display_data"
    }
   ],
   "source": [
    "class_names = ['plane', 'car', 'bird', 'cat', 'deer', 'dog', 'frog', 'horse', 'ship', 'truck'] # \n",
    "patch_sizes = [3, 5, 7, 9, 16]\n",
    "\n",
    "patch_dict = get_patches(class_names, patch_sizes)\n",
    "save_results(patch_dict) # Uncomment if you add new class names and want to save the new results"
   ]
  },
  {
   "cell_type": "code",
   "execution_count": 50,
   "metadata": {},
   "outputs": [
    {
     "data": {
      "image/png": "[encoded data removed]",
      "text/plain": [
       "<Figure size 660x1100 with 15 Axes>"
      ]
     },
     "metadata": {},
     "output_type": "display_data"
    }
   ],
   "source": [
    "def show_patches():\n",
    "    fig, ax = plt.subplots(len(patch_sizes), len(class_names), figsize=(len(class_names)*2.2, len(patch_sizes)*2.2))\n",
    "    for c_idx, cname in enumerate(class_names):\n",
    "        for p_idx, psize in enumerate(patch_sizes):\n",
    "            patch = patch_dict[cname][psize][\"patch\"]\n",
    "            patch = (torch.tanh(patch) + 1) / 2 # Parameter to pixel values\n",
    "            patch = patch.cpu().permute(1, 2, 0).numpy()\n",
    "            patch = np.clip(patch, a_min=0.0, a_max=1.0)\n",
    "            ax[p_idx][c_idx].imshow(patch)\n",
    "            ax[p_idx][c_idx].set_title(f\"{cname}, size {psize}\")\n",
    "            ax[p_idx][c_idx].axis('off')\n",
    "    fig.subplots_adjust(hspace=0.3, wspace=0.3)\n",
    "    plt.show()\n",
    "show_patches()"
   ]
  },
  {
   "cell_type": "code",
   "execution_count": 59,
   "metadata": {},
   "outputs": [
    {
     "data": {
      "text/html": [
       "<!-- Some HTML code to increase font size in the following table -->\n",
       "<style>\n",
       "th {font-size: 120%;}\n",
       "td {font-size: 120%;}\n",
       "</style>\n"
      ],
      "text/plain": [
       "<IPython.core.display.HTML object>"
      ]
     },
     "metadata": {},
     "output_type": "display_data"
    }
   ],
   "source": [
    "%%html\n",
    "<!-- Some HTML code to increase font size in the following table -->\n",
    "<style>\n",
    "th {font-size: 120%;}\n",
    "td {font-size: 120%;}\n",
    "</style>"
   ]
  },
  {
   "cell_type": "code",
   "execution_count": 60,
   "metadata": {},
   "outputs": [],
   "source": [
    "import tabulate\n",
    "from IPython.display import display, HTML\n",
    "\n",
    "def show_table(top_1=True):\n",
    "    i = 0 if top_1 else 1\n",
    "    table = [[name] + [f\"{(100.0 * patch_dict[name][psize]['results'][i]):4.2f}%\" for psize in patch_sizes]\n",
    "             for name in class_names]\n",
    "    display(HTML(tabulate.tabulate(table, tablefmt='html', headers=[\"Class name\"] + [f\"Patch size {psize}x{psize}\" for psize in patch_sizes])))"
   ]
  },
  {
   "cell_type": "code",
   "execution_count": 61,
   "metadata": {},
   "outputs": [
    {
     "data": {
      "text/html": [
       "<table>\n",
       "<thead>\n",
       "<tr><th>Class name  </th><th>Patch size 3x3  </th><th>Patch size 5x5  </th><th>Patch size 7x7  </th><th>Patch size 9x9  </th><th>Patch size 16x16  </th></tr>\n",
       "</thead>\n",
       "<tbody>\n",
       "<tr><td>plane       </td><td>16.17%          </td><td>32.36%          </td><td>67.21%          </td><td>87.59%          </td><td>99.99%            </td></tr>\n",
       "<tr><td>car         </td><td>1.50%           </td><td>25.87%          </td><td>59.22%          </td><td>81.13%          </td><td>99.99%            </td></tr>\n",
       "<tr><td>bird        </td><td>22.00%          </td><td>35.36%          </td><td>75.02%          </td><td>92.78%          </td><td>99.98%            </td></tr>\n",
       "</tbody>\n",
       "</table>"
      ],
      "text/plain": [
       "<IPython.core.display.HTML object>"
      ]
     },
     "metadata": {},
     "output_type": "display_data"
    }
   ],
   "source": [
    "# top-1 accuracy\n",
    "show_table(top_1=True)"
   ]
  },
  {
   "cell_type": "code",
   "execution_count": 62,
   "metadata": {},
   "outputs": [
    {
     "data": {
      "text/html": [
       "<table>\n",
       "<thead>\n",
       "<tr><th>Class name  </th><th>Patch size 3x3  </th><th>Patch size 5x5  </th><th>Patch size 7x7  </th><th>Patch size 9x9  </th><th>Patch size 16x16  </th></tr>\n",
       "</thead>\n",
       "<tbody>\n",
       "<tr><td>plane       </td><td>83.31%          </td><td>92.57%          </td><td>98.91%          </td><td>99.91%          </td><td>100.00%           </td></tr>\n",
       "<tr><td>car         </td><td>56.25%          </td><td>91.56%          </td><td>98.36%          </td><td>99.93%          </td><td>100.00%           </td></tr>\n",
       "<tr><td>bird        </td><td>86.21%          </td><td>92.08%          </td><td>99.20%          </td><td>99.97%          </td><td>100.00%           </td></tr>\n",
       "</tbody>\n",
       "</table>"
      ],
      "text/plain": [
       "<IPython.core.display.HTML object>"
      ]
     },
     "metadata": {},
     "output_type": "display_data"
    }
   ],
   "source": [
    "# top-5 accuracy\n",
    "show_table(top_1=False)"
   ]
  },
  {
   "cell_type": "code",
   "execution_count": 64,
   "metadata": {},
   "outputs": [],
   "source": [
    "def perform_patch_attack(patch):\n",
    "    patch_batch = exmp_batch.clone()\n",
    "    patch_batch = place_patch(patch_batch, patch)\n",
    "    with torch.no_grad():\n",
    "        patch_preds = model(patch_batch.to(device))\n",
    "    for i in range(1,17,5):\n",
    "        show_prediction(patch_batch[i], label_batch[i], patch_preds[i])"
   ]
  },
  {
   "cell_type": "code",
   "execution_count": 67,
   "metadata": {},
   "outputs": [
    {
     "data": {
      "image/png": "[encoded data removed]",
      "text/plain": [
       "<Figure size 1000x200 with 2 Axes>"
      ]
     },
     "metadata": {},
     "output_type": "display_data"
    },
    {
     "data": {
      "image/png": "[encoded data removed]",
      "text/plain": [
       "<Figure size 1000x200 with 2 Axes>"
      ]
     },
     "metadata": {},
     "output_type": "display_data"
    },
    {
     "data": {
      "image/png": "[encoded data removed]",
      "text/plain": [
       "<Figure size 1000x200 with 2 Axes>"
      ]
     },
     "metadata": {},
     "output_type": "display_data"
    },
    {
     "data": {
      "image/png": "[encoded data removed]",
      "text/plain": [
       "<Figure size 1000x200 with 2 Axes>"
      ]
     },
     "metadata": {},
     "output_type": "display_data"
    }
   ],
   "source": [
    "perform_patch_attack(patch_dict['car'][9]['patch'])"
   ]
  },
  {
   "cell_type": "markdown",
   "metadata": {},
   "source": [
    "### Transferability of white-box attacks\n",
    "\n",
    "FGSM and the adversarial patch attack were both focused on one specific image. However, can we transfer those attacks to other models? The adversarial patch attack as proposed in [Brown et al.](https://arxiv.org/pdf/1712.09665.pdf), was originally trained on multiple models, and hence was also able to work on many different network architecture. But how different are the patches for different models anyway? For instance, let's evaluate some of our patches trained above on a different network, e.g. DenseNet121."
   ]
  },
  {
   "cell_type": "code",
   "execution_count": 76,
   "metadata": {},
   "outputs": [
    {
     "name": "stderr",
     "output_type": "stream",
     "text": [
      "/home/yo46/anaconda3/envs/llmattack/lib/python3.8/site-packages/torchvision/models/_utils.py:208: UserWarning: The parameter 'pretrained' is deprecated since 0.13 and may be removed in the future, please use 'weights' instead.\n",
      "  warnings.warn(\n",
      "/home/yo46/anaconda3/envs/llmattack/lib/python3.8/site-packages/torchvision/models/_utils.py:223: UserWarning: Arguments other than a weight enum or `None` for 'weights' are deprecated since 0.13 and may be removed in the future. The current behavior is equivalent to passing `weights=DenseNet121_Weights.IMAGENET1K_V1`. You can also use `weights=DenseNet121_Weights.DEFAULT` to get the most up-to-date weights.\n",
      "  warnings.warn(msg)\n"
     ]
    }
   ],
   "source": [
    "#TODO: Load the pretrained cifar 10 model from the hub and test the transferability of the patch\n",
    "transfer_model = torchvision.models.densenet121(pretrained=True)\n",
    "transfer_model = transfer_model.to(device)\n",
    "\n",
    "# No gradients needed for the network\n",
    "transfer_model.eval()\n",
    "for p in transfer_model.parameters():\n",
    "    p.requires_grad = False"
   ]
  },
  {
   "cell_type": "code",
   "execution_count": 75,
   "metadata": {},
   "outputs": [
    {
     "name": "stdout",
     "output_type": "stream",
     "text": [
      "Testing patch \"car\" of size 16x16\n"
     ]
    },
    {
     "data": {
      "application/vnd.jupyter.widget-view+json": {
       "model_id": "b57e6fe4de1141359ba120685db49b17",
       "version_major": 2,
       "version_minor": 0
      },
      "text/plain": [
       "Validating...:   0%|          | 0/79 [00:00<?, ?it/s]"
      ]
     },
     "metadata": {},
     "output_type": "display_data"
    },
    {
     "name": "stdout",
     "output_type": "stream",
     "text": [
      "Top-1 fool accuracy: 0.00%\n",
      "Top-5 fool accuracy: 0.00%\n"
     ]
    }
   ],
   "source": [
    "class_name = 'car'\n",
    "patch_size = 16\n",
    "print(f\"Testing patch \\\"{class_name}\\\" of size {patch_size}x{patch_size}\")\n",
    "\n",
    "results = eval_patch(transfer_model, \n",
    "                     patch_dict[class_name][patch_size][\"patch\"], \n",
    "                     testloader, \n",
    "                     target_class=label_names.index(class_name))\n",
    "\n",
    "print(f\"Top-1 fool accuracy: {(results[0] * 100.0):4.2f}%\")\n",
    "print(f\"Top-5 fool accuracy: {(results[1] * 100.0):4.2f}%\")"
   ]
  },
  {
   "cell_type": "code",
   "execution_count": null,
   "metadata": {},
   "outputs": [],
   "source": []
  }
 ],
 "metadata": {
  "kernelspec": {
   "display_name": "Python 3 (ipykernel)",
   "language": "python",
   "name": "python3"
  },
  "language_info": {
   "codemirror_mode": {
    "name": "ipython",
    "version": 3
   },
   "file_extension": ".py",
   "mimetype": "text/x-python",
   "name": "python",
   "nbconvert_exporter": "python",
   "pygments_lexer": "ipython3",
   "version": "3.8.18"
  }
 },
 "nbformat": 4,
 "nbformat_minor": 5
}
