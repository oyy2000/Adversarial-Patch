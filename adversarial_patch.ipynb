{
 "cells": [
  {
   "cell_type": "markdown",
   "id": "7ea3338e-fd0f-4ca9-98c7-18c27f981f9a",
   "metadata": {},
   "source": [
    "# ResNet20"
   ]
  },
  {
   "cell_type": "code",
   "execution_count": 1,
   "id": "94dff16c",
   "metadata": {},
   "outputs": [
    {
     "name": "stdout",
     "output_type": "stream",
     "text": [
      "Using device: cuda:0\n",
      "Files already downloaded and verified\n",
      "Files already downloaded and verified\n"
     ]
    },
    {
     "name": "stderr",
     "output_type": "stream",
     "text": [
      "/home/yo46/anaconda3/envs/llmattack/lib/python3.8/site-packages/torch/hub.py:286: UserWarning: You are about to download and run code from an untrusted repository. In a future release, this won't be allowed. To add the repository to your trusted list, change the command to {calling_fn}(..., trust_repo=False) and a command prompt will appear asking for an explicit confirmation of trust, or load(..., trust_repo=True), which will assume that the prompt is to be answered with 'yes'. You can also use load(..., trust_repo='check') which will only prompt for confirmation if the repo is not already trusted. This will eventually be the default behaviour\n",
      "  warnings.warn(\n",
      "Downloading: \"https://github.com/chenyaofo/pytorch-cifar-models/zipball/master\" to /home/yo46/.cache/torch/hub/master.zip\n",
      "Downloading: \"https://github.com/chenyaofo/pytorch-cifar-models/releases/download/resnet/cifar10_resnet20-4118986f.pt\" to /home/yo46/.cache/torch/hub/checkpoints/cifar10_resnet20-4118986f.pt\n",
      "100%|██████████| 1.09M/1.09M [00:00<00:00, 13.7MB/s]\n"
     ]
    },
    {
     "name": "stdout",
     "output_type": "stream",
     "text": [
      "Accuracy of the network on the test images: 92 %\n"
     ]
    }
   ],
   "source": [
    "import torch\n",
    "import torchvision\n",
    "import torchvision.transforms as transforms\n",
    "import torch.nn as nn\n",
    "import matplotlib.pyplot as plt\n",
    "import numpy as np\n",
    "\n",
    "# Check if CUDA is available and set the device\n",
    "device = torch.device(\"cuda:0\" if torch.cuda.is_available() else \"cpu\")\n",
    "print(\"Using device:\", device)\n",
    "\n",
    "# Transform for the CIFAR-10 dataset\n",
    "transform = transforms.Compose([\n",
    "    transforms.ToTensor(),\n",
    "    transforms.Normalize((0.491, 0.482, 0.446), (0.247, 0.243, 0.261))\n",
    "])\n",
    "\n",
    "# Load CIFAR-10 training and test datasets\n",
    "trainset = torchvision.datasets.CIFAR10(root='./data', train=True,\n",
    "                                        download=True, transform=transform)\n",
    "trainloader = torch.utils.data.DataLoader(trainset, batch_size=128,\n",
    "                                          shuffle=False, num_workers=2)\n",
    "\n",
    "testset = torchvision.datasets.CIFAR10(root='./data', train=False,\n",
    "                                       download=True, transform=transform)\n",
    "testloader = torch.utils.data.DataLoader(testset, batch_size=128,\n",
    "                                         shuffle=False, num_workers=2)\n",
    "\n",
    "# Load model and move to device\n",
    "model = torch.hub.load(\"chenyaofo/pytorch-cifar-models\", \"cifar10_resnet20\", pretrained=True)\n",
    "model.to(device)\n",
    "\n",
    "# Ensure the model is in evaluation mode\n",
    "model.eval()\n",
    "\n",
    "# Function to calculate accuracy\n",
    "def calculate_accuracy(net, dataloader, device):\n",
    "    correct = 0\n",
    "    total = 0\n",
    "    with torch.no_grad():\n",
    "        for data in dataloader:\n",
    "            images, labels = data\n",
    "            images, labels = images.to(device), labels.to(device)\n",
    "            outputs = net(images)\n",
    "            _, predicted = torch.max(outputs, 1)\n",
    "            total += labels.size(0)\n",
    "            correct += (predicted == labels).sum().item()\n",
    "    return 100 * correct / total\n",
    "\n",
    "# # Evaluate on the training data\n",
    "# train_accuracy = calculate_accuracy(model, trainloader, device)\n",
    "# print('Accuracy of the network on the training images: %d %%' % train_accuracy)\n",
    "\n",
    "# Evaluate on the test data\n",
    "test_accuracy = calculate_accuracy(model, testloader, device)\n",
    "print('Accuracy of the network on the test images: %d %%' % test_accuracy)\n"
   ]
  },
  {
   "cell_type": "code",
   "execution_count": 2,
   "id": "2d8025fc-c58f-4099-a443-27cc4b5114af",
   "metadata": {},
   "outputs": [
    {
     "name": "stdout",
     "output_type": "stream",
     "text": [
      "Epoch [1/20], Average Loss: 7.7600\n"
     ]
    }
   ],
   "source": [
    "def create_initial_patch(size=(10, 10), device='cpu'):\n",
    "    \"\"\"Create an initial random patch.\"\"\"\n",
    "    patch = torch.rand((3,) + size, requires_grad=True, device=device)  # Add channel dimension\n",
    "    return patch\n",
    "\n",
    "def apply_patch(original_images, patch):\n",
    "    \"\"\"Apply the patch to the top-left corner of each image in a batch.\"\"\"\n",
    "    patched_images = original_images.clone()\n",
    "    c, h, w = patch.shape  # Get the shape of the patch\n",
    "    patched_images[:, :, :h, :w] = patch  # Apply the patch\n",
    "    return patched_images\n",
    "\n",
    "def train_patch(model, patch, train_loader, device='cpu', epochs=5):\n",
    "    \"\"\"Train the patch to perform an untargeted attack.\"\"\"\n",
    "    optimizer = torch.optim.Adam([patch], lr=0.01)\n",
    "\n",
    "    for epoch in range(epochs):\n",
    "        total_loss = 0.0\n",
    "        num_batches = 0\n",
    "\n",
    "        for images, _ in train_loader:\n",
    "            images = images.to(device)\n",
    "            patched_images = apply_patch(images, patch)\n",
    "\n",
    "            outputs = model(patched_images)\n",
    "            loss = -torch.nn.functional.nll_loss(outputs, outputs.max(1)[1])\n",
    "            \n",
    "            optimizer.zero_grad()\n",
    "            loss.backward()\n",
    "            optimizer.step()\n",
    "\n",
    "            total_loss += loss.item()\n",
    "            num_batches += 1\n",
    "\n",
    "        average_loss = total_loss / num_batches\n",
    "        print(f\"Epoch [{epoch+1}/{epochs}], Average Loss: {average_loss:.4f}\")\n",
    "\n",
    "    return patch\n",
    "\n",
    "\n",
    "# Load your datasets and model here\n",
    "device = torch.device(\"cuda:0\" if torch.cuda.is_available() else \"cpu\")\n",
    "model.to(device)\n",
    "\n",
    "# Create the initial patch\n",
    "patch_size = (10, 10)  # Define the size of the patch\n",
    "initial_patch = create_initial_patch(size=patch_size, device=device)\n",
    "\n",
    "# Train the patch\n",
    "trained_patch = train_patch(model, initial_patch, trainloader, device=device, epochs=20)\n",
    "\n"
   ]
  },
  {
   "cell_type": "code",
   "execution_count": 21,
   "id": "188b442c-c7cd-4d49-b09e-9608690173e4",
   "metadata": {},
   "outputs": [
    {
     "data": {
      "image/png": "[encoded data removed]",
      "text/plain": [
       "<Figure size 640x480 with 1 Axes>"
      ]
     },
     "metadata": {},
     "output_type": "display_data"
    }
   ],
   "source": [
    "# Save or visualize the trained patch here \n",
    "def visualize_patch(patch):\n",
    "    \"\"\"Visualize the adversarial patch.\"\"\"\n",
    "    # Move patch to CPU and convert to numpy\n",
    "    patch_np = patch.detach().cpu().numpy()\n",
    "    \n",
    "    # Reshape and normalize the patch for visualization\n",
    "    patch_np = np.transpose(patch_np, (1, 2, 0))  # Change from (C, H, W) to (H, W, C)\n",
    "    patch_np = (patch_np - patch_np.min()) / (patch_np.max() - patch_np.min())  # Normalize to [0, 1]\n",
    "\n",
    "    plt.imshow(patch_np)\n",
    "    plt.title(\"Adversarial Patch\")\n",
    "    plt.show()\n",
    "\n",
    "# Visualize the trained patch\n",
    "visualize_patch(trained_patch)"
   ]
  },
  {
   "cell_type": "code",
   "execution_count": 23,
   "id": "5cae6f85-89a1-4876-a9db-f2f0759f0da2",
   "metadata": {},
   "outputs": [
    {
     "name": "stdout",
     "output_type": "stream",
     "text": [
      "Accuracy of the model after the attack: 47.41 %\n",
      "Predicted label distribution: [ 351 1343  905 2179  167 2507  255 1335   30  928]\n"
     ]
    }
   ],
   "source": [
    "def test_model_with_patch(model, patch, test_loader, device):\n",
    "    \"\"\"Evaluate the model on the test set with the adversarial patch applied.\"\"\"\n",
    "    model.eval()  # Set the model to evaluation mode\n",
    "    correct = 0\n",
    "    total = 0\n",
    "    predicted_distribution = torch.zeros(len(test_loader.dataset.classes), dtype=torch.int64)\n",
    "\n",
    "    with torch.no_grad():\n",
    "        for images, labels in test_loader:\n",
    "            images, labels = images.to(device), labels.to(device)\n",
    "            patched_images = apply_patch(images, patch)  # Apply the patch\n",
    "\n",
    "            outputs = model(patched_images)\n",
    "            _, predicted = torch.max(outputs.data, 1)\n",
    "            total += labels.size(0)\n",
    "\n",
    "            correct += (predicted == labels).sum().item()\n",
    "\n",
    "            for label in predicted:\n",
    "                predicted_distribution[label] += 1\n",
    "\n",
    "    accuracy = 100 * correct / total\n",
    "    return accuracy, predicted_distribution\n",
    "\n",
    "accuracy_after_attack, label_distribution = test_model_with_patch(model, trained_patch, testloader, device)\n",
    "\n",
    "print('Accuracy of the model after the attack: {:.2f} %'.format(accuracy_after_attack))\n",
    "print('Predicted label distribution:', label_distribution.numpy())"
   ]
  },
  {
   "cell_type": "code",
   "execution_count": 24,
   "id": "e6680218-b7b9-43ae-8faa-247b79ea20f1",
   "metadata": {},
   "outputs": [
    {
     "name": "stdout",
     "output_type": "stream",
     "text": [
      "Epoch [1/20], Loss: 0.7360\n",
      "Epoch [2/20], Loss: 0.3309\n",
      "Epoch [3/20], Loss: 0.2583\n",
      "Epoch [4/20], Loss: 0.2141\n",
      "Epoch [5/20], Loss: 0.1872\n",
      "Epoch [6/20], Loss: 0.1659\n",
      "Epoch [7/20], Loss: 0.1503\n",
      "Epoch [8/20], Loss: 0.1313\n",
      "Epoch [9/20], Loss: 0.1162\n",
      "Epoch [10/20], Loss: 0.1035\n",
      "Epoch [11/20], Loss: 0.0946\n",
      "Epoch [12/20], Loss: 0.0876\n",
      "Epoch [13/20], Loss: 0.0787\n",
      "Epoch [14/20], Loss: 0.0682\n",
      "Epoch [15/20], Loss: 0.0602\n",
      "Epoch [16/20], Loss: 0.0543\n",
      "Epoch [17/20], Loss: 0.0499\n",
      "Epoch [18/20], Loss: 0.0460\n",
      "Epoch [19/20], Loss: 0.0430\n",
      "Epoch [20/20], Loss: 0.0410\n"
     ]
    }
   ],
   "source": [
    "def train_patch_targeted(model, patch, train_loader, target_class, device='cpu', epochs=5):\n",
    "    \"\"\"Train the patch to perform a targeted attack.\"\"\"\n",
    "    optimizer = torch.optim.Adam([patch], lr=0.01)\n",
    "    criterion = torch.nn.CrossEntropyLoss()\n",
    "\n",
    "    for epoch in range(epochs):\n",
    "        for images, _ in train_loader:\n",
    "            target_labels = torch.full((len(images),), target_class, device=device)\n",
    "            images = images.to(device)\n",
    "            patched_images = apply_patch(images, patch)\n",
    "\n",
    "            optimizer.zero_grad()\n",
    "            outputs = model(patched_images)\n",
    "            loss = criterion(outputs, target_labels)\n",
    "            loss.backward()\n",
    "            optimizer.step()\n",
    "\n",
    "        print(f\"Epoch [{epoch+1}/{epochs}], Loss: {loss.item():.4f}\")\n",
    "\n",
    "    return patch\n",
    "\n",
    "patch_size = (10, 10)  # Define the size of the patch\n",
    "initial_patch = create_initial_patch(size=patch_size, device=device)\n",
    "target_class = 5  # Example: 0 for the first class in CIFAR-10\n",
    "trained_patch_targeted = train_patch_targeted(model, initial_patch, trainloader, target_class, device=device, epochs=20)\n"
   ]
  },
  {
   "cell_type": "code",
   "execution_count": 26,
   "id": "6c05a40f-21ba-4de1-825a-344f72b6fab9",
   "metadata": {},
   "outputs": [
    {
     "name": "stdout",
     "output_type": "stream",
     "text": [
      "Accuracy of the model after the attack: 10.69 %\n",
      "Predicted label distribution: [   3   10    1    3   11 9931    1    7    4   29]\n"
     ]
    }
   ],
   "source": [
    "accuracy_after_attack, label_distribution = test_model_with_patch(model, trained_patch_targeted, testloader, device)\n",
    "\n",
    "print('Accuracy of the model after the attack: {:.2f} %'.format(accuracy_after_attack))\n",
    "print('Predicted label distribution:', label_distribution.numpy())"
   ]
  },
  {
   "cell_type": "code",
   "execution_count": null,
   "id": "92895363-4c38-42cc-a78b-3ee81b9c86e9",
   "metadata": {},
   "outputs": [],
   "source": []
  }
 ],
 "metadata": {
  "kernelspec": {
   "display_name": "Python 3 (ipykernel)",
   "language": "python",
   "name": "python3"
  },
  "language_info": {
   "codemirror_mode": {
    "name": "ipython",
    "version": 3
   },
   "file_extension": ".py",
   "mimetype": "text/x-python",
   "name": "python",
   "nbconvert_exporter": "python",
   "pygments_lexer": "ipython3",
   "version": "3.8.18"
  }
 },
 "nbformat": 4,
 "nbformat_minor": 5
}
